{
 "cells": [
  {
   "cell_type": "code",
   "execution_count": 1,
   "metadata": {},
   "outputs": [],
   "source": [
    "import numpy as np\n",
    "import pandas as pd\n",
    "import seaborn as sns\n",
    "import matplotlib.pyplot as plt\n",
    "from sklearn.metrics import classification_report\n",
    "from sklearn.metrics import confusion_matrix\n",
    "import statsmodels.formula.api as sm\n",
    "from sklearn.metrics import accuracy_score\n",
    "from sklearn.model_selection import GridSearchCV"
   ]
  },
  {
   "cell_type": "code",
   "execution_count": 2,
   "metadata": {},
   "outputs": [],
   "source": [
    "df = pd.read_csv('train.csv')"
   ]
  },
  {
   "cell_type": "code",
   "execution_count": 3,
   "metadata": {},
   "outputs": [
    {
     "data": {
      "text/html": [
       "<div>\n",
       "<style scoped>\n",
       "    .dataframe tbody tr th:only-of-type {\n",
       "        vertical-align: middle;\n",
       "    }\n",
       "\n",
       "    .dataframe tbody tr th {\n",
       "        vertical-align: top;\n",
       "    }\n",
       "\n",
       "    .dataframe thead th {\n",
       "        text-align: right;\n",
       "    }\n",
       "</style>\n",
       "<table border=\"1\" class=\"dataframe\">\n",
       "  <thead>\n",
       "    <tr style=\"text-align: right;\">\n",
       "      <th></th>\n",
       "      <th>Severity</th>\n",
       "      <th>Safety_Score</th>\n",
       "      <th>Days_Since_Inspection</th>\n",
       "      <th>Total_Safety_Complaints</th>\n",
       "      <th>Control_Metric</th>\n",
       "      <th>Turbulence_In_gforces</th>\n",
       "      <th>Cabin_Temperature</th>\n",
       "      <th>Accident_Type_Code</th>\n",
       "      <th>Max_Elevation</th>\n",
       "      <th>Violations</th>\n",
       "      <th>Adverse_Weather_Metric</th>\n",
       "      <th>Accident_ID</th>\n",
       "    </tr>\n",
       "  </thead>\n",
       "  <tbody>\n",
       "    <tr>\n",
       "      <td>0</td>\n",
       "      <td>Minor_Damage_And_Injuries</td>\n",
       "      <td>49.223744</td>\n",
       "      <td>14</td>\n",
       "      <td>22</td>\n",
       "      <td>71.285324</td>\n",
       "      <td>0.272118</td>\n",
       "      <td>78.04</td>\n",
       "      <td>2</td>\n",
       "      <td>31335.476824</td>\n",
       "      <td>3</td>\n",
       "      <td>0.424352</td>\n",
       "      <td>7570</td>\n",
       "    </tr>\n",
       "    <tr>\n",
       "      <td>1</td>\n",
       "      <td>Minor_Damage_And_Injuries</td>\n",
       "      <td>62.465753</td>\n",
       "      <td>10</td>\n",
       "      <td>27</td>\n",
       "      <td>72.288058</td>\n",
       "      <td>0.423939</td>\n",
       "      <td>84.54</td>\n",
       "      <td>2</td>\n",
       "      <td>26024.711057</td>\n",
       "      <td>2</td>\n",
       "      <td>0.352350</td>\n",
       "      <td>12128</td>\n",
       "    </tr>\n",
       "    <tr>\n",
       "      <td>2</td>\n",
       "      <td>Significant_Damage_And_Fatalities</td>\n",
       "      <td>63.059361</td>\n",
       "      <td>13</td>\n",
       "      <td>16</td>\n",
       "      <td>66.362808</td>\n",
       "      <td>0.322604</td>\n",
       "      <td>78.86</td>\n",
       "      <td>7</td>\n",
       "      <td>39269.053927</td>\n",
       "      <td>3</td>\n",
       "      <td>0.003364</td>\n",
       "      <td>2181</td>\n",
       "    </tr>\n",
       "    <tr>\n",
       "      <td>3</td>\n",
       "      <td>Significant_Damage_And_Serious_Injuries</td>\n",
       "      <td>48.082192</td>\n",
       "      <td>11</td>\n",
       "      <td>9</td>\n",
       "      <td>74.703737</td>\n",
       "      <td>0.337029</td>\n",
       "      <td>81.79</td>\n",
       "      <td>3</td>\n",
       "      <td>42771.499200</td>\n",
       "      <td>1</td>\n",
       "      <td>0.211728</td>\n",
       "      <td>5946</td>\n",
       "    </tr>\n",
       "    <tr>\n",
       "      <td>4</td>\n",
       "      <td>Significant_Damage_And_Fatalities</td>\n",
       "      <td>26.484018</td>\n",
       "      <td>13</td>\n",
       "      <td>25</td>\n",
       "      <td>47.948952</td>\n",
       "      <td>0.541140</td>\n",
       "      <td>77.16</td>\n",
       "      <td>3</td>\n",
       "      <td>35509.228515</td>\n",
       "      <td>2</td>\n",
       "      <td>0.176883</td>\n",
       "      <td>9054</td>\n",
       "    </tr>\n",
       "  </tbody>\n",
       "</table>\n",
       "</div>"
      ],
      "text/plain": [
       "                                  Severity  Safety_Score  \\\n",
       "0                Minor_Damage_And_Injuries     49.223744   \n",
       "1                Minor_Damage_And_Injuries     62.465753   \n",
       "2        Significant_Damage_And_Fatalities     63.059361   \n",
       "3  Significant_Damage_And_Serious_Injuries     48.082192   \n",
       "4        Significant_Damage_And_Fatalities     26.484018   \n",
       "\n",
       "   Days_Since_Inspection  Total_Safety_Complaints  Control_Metric  \\\n",
       "0                     14                       22       71.285324   \n",
       "1                     10                       27       72.288058   \n",
       "2                     13                       16       66.362808   \n",
       "3                     11                        9       74.703737   \n",
       "4                     13                       25       47.948952   \n",
       "\n",
       "   Turbulence_In_gforces  Cabin_Temperature  Accident_Type_Code  \\\n",
       "0               0.272118              78.04                   2   \n",
       "1               0.423939              84.54                   2   \n",
       "2               0.322604              78.86                   7   \n",
       "3               0.337029              81.79                   3   \n",
       "4               0.541140              77.16                   3   \n",
       "\n",
       "   Max_Elevation  Violations  Adverse_Weather_Metric  Accident_ID  \n",
       "0   31335.476824           3                0.424352         7570  \n",
       "1   26024.711057           2                0.352350        12128  \n",
       "2   39269.053927           3                0.003364         2181  \n",
       "3   42771.499200           1                0.211728         5946  \n",
       "4   35509.228515           2                0.176883         9054  "
      ]
     },
     "execution_count": 3,
     "metadata": {},
     "output_type": "execute_result"
    }
   ],
   "source": [
    "df.head()"
   ]
  },
  {
   "cell_type": "code",
   "execution_count": 4,
   "metadata": {},
   "outputs": [
    {
     "data": {
      "text/html": [
       "<div>\n",
       "<style scoped>\n",
       "    .dataframe tbody tr th:only-of-type {\n",
       "        vertical-align: middle;\n",
       "    }\n",
       "\n",
       "    .dataframe tbody tr th {\n",
       "        vertical-align: top;\n",
       "    }\n",
       "\n",
       "    .dataframe thead th {\n",
       "        text-align: right;\n",
       "    }\n",
       "</style>\n",
       "<table border=\"1\" class=\"dataframe\">\n",
       "  <thead>\n",
       "    <tr style=\"text-align: right;\">\n",
       "      <th></th>\n",
       "      <th>Safety_Score</th>\n",
       "      <th>Days_Since_Inspection</th>\n",
       "      <th>Total_Safety_Complaints</th>\n",
       "      <th>Control_Metric</th>\n",
       "      <th>Turbulence_In_gforces</th>\n",
       "      <th>Cabin_Temperature</th>\n",
       "      <th>Accident_Type_Code</th>\n",
       "      <th>Max_Elevation</th>\n",
       "      <th>Violations</th>\n",
       "      <th>Adverse_Weather_Metric</th>\n",
       "      <th>Accident_ID</th>\n",
       "    </tr>\n",
       "  </thead>\n",
       "  <tbody>\n",
       "    <tr>\n",
       "      <td>count</td>\n",
       "      <td>10000.000000</td>\n",
       "      <td>10000.000000</td>\n",
       "      <td>10000.000000</td>\n",
       "      <td>10000.000000</td>\n",
       "      <td>10000.000000</td>\n",
       "      <td>10000.000000</td>\n",
       "      <td>10000.000000</td>\n",
       "      <td>10000.000000</td>\n",
       "      <td>10000.00000</td>\n",
       "      <td>10000.000000</td>\n",
       "      <td>10000.000000</td>\n",
       "    </tr>\n",
       "    <tr>\n",
       "      <td>mean</td>\n",
       "      <td>41.876406</td>\n",
       "      <td>12.931100</td>\n",
       "      <td>6.564300</td>\n",
       "      <td>65.145324</td>\n",
       "      <td>0.381495</td>\n",
       "      <td>79.969331</td>\n",
       "      <td>3.814900</td>\n",
       "      <td>32001.803282</td>\n",
       "      <td>2.01220</td>\n",
       "      <td>0.255635</td>\n",
       "      <td>6266.554200</td>\n",
       "    </tr>\n",
       "    <tr>\n",
       "      <td>std</td>\n",
       "      <td>16.138072</td>\n",
       "      <td>3.539803</td>\n",
       "      <td>6.971982</td>\n",
       "      <td>11.882934</td>\n",
       "      <td>0.121301</td>\n",
       "      <td>2.759739</td>\n",
       "      <td>1.902577</td>\n",
       "      <td>9431.995196</td>\n",
       "      <td>1.03998</td>\n",
       "      <td>0.381128</td>\n",
       "      <td>3610.170288</td>\n",
       "    </tr>\n",
       "    <tr>\n",
       "      <td>min</td>\n",
       "      <td>0.000000</td>\n",
       "      <td>1.000000</td>\n",
       "      <td>0.000000</td>\n",
       "      <td>0.000000</td>\n",
       "      <td>0.134000</td>\n",
       "      <td>74.740000</td>\n",
       "      <td>1.000000</td>\n",
       "      <td>831.695553</td>\n",
       "      <td>0.00000</td>\n",
       "      <td>0.000316</td>\n",
       "      <td>2.000000</td>\n",
       "    </tr>\n",
       "    <tr>\n",
       "      <td>25%</td>\n",
       "      <td>30.593607</td>\n",
       "      <td>11.000000</td>\n",
       "      <td>2.000000</td>\n",
       "      <td>56.927985</td>\n",
       "      <td>0.293665</td>\n",
       "      <td>77.960000</td>\n",
       "      <td>2.000000</td>\n",
       "      <td>25757.636908</td>\n",
       "      <td>1.00000</td>\n",
       "      <td>0.012063</td>\n",
       "      <td>3139.750000</td>\n",
       "    </tr>\n",
       "    <tr>\n",
       "      <td>50%</td>\n",
       "      <td>41.278539</td>\n",
       "      <td>13.000000</td>\n",
       "      <td>4.000000</td>\n",
       "      <td>65.587967</td>\n",
       "      <td>0.365879</td>\n",
       "      <td>79.540000</td>\n",
       "      <td>4.000000</td>\n",
       "      <td>32060.336419</td>\n",
       "      <td>2.00000</td>\n",
       "      <td>0.074467</td>\n",
       "      <td>6280.500000</td>\n",
       "    </tr>\n",
       "    <tr>\n",
       "      <td>75%</td>\n",
       "      <td>52.511416</td>\n",
       "      <td>15.000000</td>\n",
       "      <td>9.000000</td>\n",
       "      <td>73.336372</td>\n",
       "      <td>0.451346</td>\n",
       "      <td>81.560000</td>\n",
       "      <td>5.000000</td>\n",
       "      <td>38380.641513</td>\n",
       "      <td>3.00000</td>\n",
       "      <td>0.354059</td>\n",
       "      <td>9391.500000</td>\n",
       "    </tr>\n",
       "    <tr>\n",
       "      <td>max</td>\n",
       "      <td>100.000000</td>\n",
       "      <td>23.000000</td>\n",
       "      <td>54.000000</td>\n",
       "      <td>100.000000</td>\n",
       "      <td>0.882648</td>\n",
       "      <td>97.510000</td>\n",
       "      <td>7.000000</td>\n",
       "      <td>64297.651218</td>\n",
       "      <td>5.00000</td>\n",
       "      <td>2.365378</td>\n",
       "      <td>12500.000000</td>\n",
       "    </tr>\n",
       "  </tbody>\n",
       "</table>\n",
       "</div>"
      ],
      "text/plain": [
       "       Safety_Score  Days_Since_Inspection  Total_Safety_Complaints  \\\n",
       "count  10000.000000           10000.000000             10000.000000   \n",
       "mean      41.876406              12.931100                 6.564300   \n",
       "std       16.138072               3.539803                 6.971982   \n",
       "min        0.000000               1.000000                 0.000000   \n",
       "25%       30.593607              11.000000                 2.000000   \n",
       "50%       41.278539              13.000000                 4.000000   \n",
       "75%       52.511416              15.000000                 9.000000   \n",
       "max      100.000000              23.000000                54.000000   \n",
       "\n",
       "       Control_Metric  Turbulence_In_gforces  Cabin_Temperature  \\\n",
       "count    10000.000000           10000.000000       10000.000000   \n",
       "mean        65.145324               0.381495          79.969331   \n",
       "std         11.882934               0.121301           2.759739   \n",
       "min          0.000000               0.134000          74.740000   \n",
       "25%         56.927985               0.293665          77.960000   \n",
       "50%         65.587967               0.365879          79.540000   \n",
       "75%         73.336372               0.451346          81.560000   \n",
       "max        100.000000               0.882648          97.510000   \n",
       "\n",
       "       Accident_Type_Code  Max_Elevation   Violations  Adverse_Weather_Metric  \\\n",
       "count        10000.000000   10000.000000  10000.00000            10000.000000   \n",
       "mean             3.814900   32001.803282      2.01220                0.255635   \n",
       "std              1.902577    9431.995196      1.03998                0.381128   \n",
       "min              1.000000     831.695553      0.00000                0.000316   \n",
       "25%              2.000000   25757.636908      1.00000                0.012063   \n",
       "50%              4.000000   32060.336419      2.00000                0.074467   \n",
       "75%              5.000000   38380.641513      3.00000                0.354059   \n",
       "max              7.000000   64297.651218      5.00000                2.365378   \n",
       "\n",
       "        Accident_ID  \n",
       "count  10000.000000  \n",
       "mean    6266.554200  \n",
       "std     3610.170288  \n",
       "min        2.000000  \n",
       "25%     3139.750000  \n",
       "50%     6280.500000  \n",
       "75%     9391.500000  \n",
       "max    12500.000000  "
      ]
     },
     "execution_count": 4,
     "metadata": {},
     "output_type": "execute_result"
    }
   ],
   "source": [
    "df.describe()"
   ]
  },
  {
   "cell_type": "code",
   "execution_count": 5,
   "metadata": {},
   "outputs": [
    {
     "data": {
      "text/plain": [
       "<matplotlib.axes._subplots.AxesSubplot at 0x220e4aa6348>"
      ]
     },
     "execution_count": 5,
     "metadata": {},
     "output_type": "execute_result"
    },
    {
     "data": {
      "image/png": "[encoded data removed]",
      "text/plain": [
       "<Figure size 1080x360 with 2 Axes>"
      ]
     },
     "metadata": {
      "needs_background": "light"
     },
     "output_type": "display_data"
    }
   ],
   "source": [
    "plt.figure(figsize=(15,5))\n",
    "sns.heatmap(df.notnull(),yticklabels=False)      # checking for the null Values"
   ]
  },
  {
   "cell_type": "code",
   "execution_count": 6,
   "metadata": {},
   "outputs": [
    {
     "data": {
      "text/plain": [
       "Highly_Fatal_And_Damaging                  3049\n",
       "Significant_Damage_And_Serious_Injuries    2729\n",
       "Minor_Damage_And_Injuries                  2527\n",
       "Significant_Damage_And_Fatalities          1695\n",
       "Name: Severity, dtype: int64"
      ]
     },
     "execution_count": 6,
     "metadata": {},
     "output_type": "execute_result"
    }
   ],
   "source": [
    "df['Severity'].value_counts()"
   ]
  },
  {
   "cell_type": "code",
   "execution_count": 224,
   "metadata": {},
   "outputs": [
    {
     "data": {
      "text/plain": [
       "<matplotlib.axes._subplots.AxesSubplot at 0x2b30d00d508>"
      ]
     },
     "execution_count": 224,
     "metadata": {},
     "output_type": "execute_result"
    },
    {
     "data": {
      "image/png": "[encoded data removed]",
      "text/plain": [
       "<Figure size 1080x576 with 1 Axes>"
      ]
     },
     "metadata": {
      "needs_background": "light"
     },
     "output_type": "display_data"
    }
   ],
   "source": [
    "plt.figure(figsize=(15,8))\n",
    "sns.countplot(x=df['Severity'])"
   ]
  },
  {
   "cell_type": "code",
   "execution_count": 7,
   "metadata": {},
   "outputs": [
    {
     "data": {
      "text/plain": [
       "4    2057\n",
       "2    1791\n",
       "3    1752\n",
       "7    1276\n",
       "6    1215\n",
       "1    1171\n",
       "5     738\n",
       "Name: Accident_Type_Code, dtype: int64"
      ]
     },
     "execution_count": 7,
     "metadata": {},
     "output_type": "execute_result"
    }
   ],
   "source": [
    "df['Accident_Type_Code'].value_counts()"
   ]
  },
  {
   "cell_type": "markdown",
   "metadata": {},
   "source": [
    "# Additional Work"
   ]
  },
  {
   "cell_type": "code",
   "execution_count": 10,
   "metadata": {},
   "outputs": [],
   "source": [
    "y = df['Severity']\n",
    "X = df.drop(['Severity'],axis=1)"
   ]
  },
  {
   "cell_type": "code",
   "execution_count": null,
   "metadata": {},
   "outputs": [],
   "source": [
    "X = pd.get_dummies(X[''])"
   ]
  },
  {
   "cell_type": "code",
   "execution_count": null,
   "metadata": {},
   "outputs": [],
   "source": []
  },
  {
   "cell_type": "code",
   "execution_count": 9,
   "metadata": {},
   "outputs": [
    {
     "data": {
      "text/plain": [
       "(10000, 12)"
      ]
     },
     "execution_count": 9,
     "metadata": {},
     "output_type": "execute_result"
    }
   ],
   "source": [
    "df.shape"
   ]
  },
  {
   "cell_type": "markdown",
   "metadata": {},
   "source": [
    "# Feature Selection"
   ]
  },
  {
   "cell_type": "code",
   "execution_count": 233,
   "metadata": {},
   "outputs": [
    {
     "data": {
      "text/plain": [
       "11"
      ]
     },
     "execution_count": 233,
     "metadata": {},
     "output_type": "execute_result"
    }
   ],
   "source": [
    "len(df.columns)"
   ]
  },
  {
   "cell_type": "code",
   "execution_count": 416,
   "metadata": {},
   "outputs": [],
   "source": [
    "# Univariate Selection :- Select those features which has the strongest relationship with output\n",
    "from sklearn.feature_selection import SelectKBest\n",
    "from sklearn.feature_selection import chi2\n",
    "bestfeatures = SelectKBest(score_func=chi2,k=11)           #'out of 11 features we want top 6 features'"
   ]
  },
  {
   "cell_type": "code",
   "execution_count": 419,
   "metadata": {},
   "outputs": [],
   "source": [
    "fit = bestfeatures.fit(df,y_encode)"
   ]
  },
  {
   "cell_type": "code",
   "execution_count": 420,
   "metadata": {},
   "outputs": [],
   "source": [
    "scores = pd.DataFrame(fit.scores_)\n",
    "columns = pd.DataFrame(df.columns)"
   ]
  },
  {
   "cell_type": "code",
   "execution_count": 421,
   "metadata": {},
   "outputs": [],
   "source": [
    "feature_scores = pd.concat([columns,scores],axis=1)\n",
    "feature_scores.columns = [\"Columns\",\"Score\"]"
   ]
  },
  {
   "cell_type": "code",
   "execution_count": 414,
   "metadata": {},
   "outputs": [
    {
     "data": {
      "text/html": [
       "<div>\n",
       "<style scoped>\n",
       "    .dataframe tbody tr th:only-of-type {\n",
       "        vertical-align: middle;\n",
       "    }\n",
       "\n",
       "    .dataframe tbody tr th {\n",
       "        vertical-align: top;\n",
       "    }\n",
       "\n",
       "    .dataframe thead th {\n",
       "        text-align: right;\n",
       "    }\n",
       "</style>\n",
       "<table border=\"1\" class=\"dataframe\">\n",
       "  <thead>\n",
       "    <tr style=\"text-align: right;\">\n",
       "      <th></th>\n",
       "      <th>Columns</th>\n",
       "      <th>Score</th>\n",
       "    </tr>\n",
       "  </thead>\n",
       "  <tbody>\n",
       "    <tr>\n",
       "      <td>7</td>\n",
       "      <td>Max_Elevation</td>\n",
       "      <td>37871.221260</td>\n",
       "    </tr>\n",
       "    <tr>\n",
       "      <td>0</td>\n",
       "      <td>Safety_Score</td>\n",
       "      <td>8552.477911</td>\n",
       "    </tr>\n",
       "    <tr>\n",
       "      <td>10</td>\n",
       "      <td>Accident_ID</td>\n",
       "      <td>3180.018341</td>\n",
       "    </tr>\n",
       "    <tr>\n",
       "      <td>3</td>\n",
       "      <td>Control_Metric</td>\n",
       "      <td>1017.270613</td>\n",
       "    </tr>\n",
       "    <tr>\n",
       "      <td>6</td>\n",
       "      <td>Accident_Type_Code</td>\n",
       "      <td>658.840259</td>\n",
       "    </tr>\n",
       "    <tr>\n",
       "      <td>9</td>\n",
       "      <td>Adverse_Weather_Metric</td>\n",
       "      <td>160.457298</td>\n",
       "    </tr>\n",
       "    <tr>\n",
       "      <td>2</td>\n",
       "      <td>Total_Safety_Complaints</td>\n",
       "      <td>53.652473</td>\n",
       "    </tr>\n",
       "    <tr>\n",
       "      <td>8</td>\n",
       "      <td>Violations</td>\n",
       "      <td>27.817094</td>\n",
       "    </tr>\n",
       "    <tr>\n",
       "      <td>1</td>\n",
       "      <td>Days_Since_Inspection</td>\n",
       "      <td>23.452196</td>\n",
       "    </tr>\n",
       "    <tr>\n",
       "      <td>4</td>\n",
       "      <td>Turbulence_In_gforces</td>\n",
       "      <td>6.544339</td>\n",
       "    </tr>\n",
       "    <tr>\n",
       "      <td>5</td>\n",
       "      <td>Cabin_Temperature</td>\n",
       "      <td>0.426112</td>\n",
       "    </tr>\n",
       "  </tbody>\n",
       "</table>\n",
       "</div>"
      ],
      "text/plain": [
       "                    Columns         Score\n",
       "7             Max_Elevation  37871.221260\n",
       "0              Safety_Score   8552.477911\n",
       "10              Accident_ID   3180.018341\n",
       "3            Control_Metric   1017.270613\n",
       "6        Accident_Type_Code    658.840259\n",
       "9    Adverse_Weather_Metric    160.457298\n",
       "2   Total_Safety_Complaints     53.652473\n",
       "8                Violations     27.817094\n",
       "1     Days_Since_Inspection     23.452196\n",
       "4     Turbulence_In_gforces      6.544339\n",
       "5         Cabin_Temperature      0.426112"
      ]
     },
     "execution_count": 414,
     "metadata": {},
     "output_type": "execute_result"
    }
   ],
   "source": [
    "feature_scores.nlargest(11,'Score')"
   ]
  },
  {
   "cell_type": "markdown",
   "metadata": {},
   "source": [
    "# Feature Importance"
   ]
  },
  {
   "cell_type": "code",
   "execution_count": 244,
   "metadata": {},
   "outputs": [],
   "source": [
    "from sklearn.ensemble import ExtraTreesClassifier\n",
    "model_Feature = ExtraTreesClassifier()"
   ]
  },
  {
   "cell_type": "code",
   "execution_count": 250,
   "metadata": {},
   "outputs": [
    {
     "name": "stderr",
     "output_type": "stream",
     "text": [
      "C:\\Users\\Nikhil\\Anaconda3\\lib\\site-packages\\sklearn\\ensemble\\forest.py:245: FutureWarning: The default value of n_estimators will change from 10 in version 0.20 to 100 in 0.22.\n",
      "  \"10 in version 0.20 to 100 in 0.22.\", FutureWarning)\n"
     ]
    },
    {
     "data": {
      "text/plain": [
       "ExtraTreesClassifier(bootstrap=False, class_weight=None, criterion='gini',\n",
       "                     max_depth=None, max_features='auto', max_leaf_nodes=None,\n",
       "                     min_impurity_decrease=0.0, min_impurity_split=None,\n",
       "                     min_samples_leaf=1, min_samples_split=2,\n",
       "                     min_weight_fraction_leaf=0.0, n_estimators=10, n_jobs=None,\n",
       "                     oob_score=False, random_state=None, verbose=0,\n",
       "                     warm_start=False)"
      ]
     },
     "execution_count": 250,
     "metadata": {},
     "output_type": "execute_result"
    }
   ],
   "source": [
    "model_Feature.fit(df,y_encode)"
   ]
  },
  {
   "cell_type": "code",
   "execution_count": 251,
   "metadata": {},
   "outputs": [
    {
     "name": "stdout",
     "output_type": "stream",
     "text": [
      "[0.19182323 0.14587141 0.04917708 0.13825787 0.07391137 0.05473438\n",
      " 0.10630765 0.05197762 0.03732438 0.10406862 0.04654639]\n"
     ]
    }
   ],
   "source": [
    "print(model_Feature.feature_importances_)"
   ]
  },
  {
   "cell_type": "code",
   "execution_count": 252,
   "metadata": {},
   "outputs": [
    {
     "data": {
      "text/plain": [
       "<function matplotlib.pyplot.show(*args, **kw)>"
      ]
     },
     "execution_count": 252,
     "metadata": {},
     "output_type": "execute_result"
    },
    {
     "data": {
      "image/png": "[encoded data removed]",
      "text/plain": [
       "<Figure size 432x288 with 1 Axes>"
      ]
     },
     "metadata": {
      "needs_background": "light"
     },
     "output_type": "display_data"
    }
   ],
   "source": [
    "feature_Important = pd.Series(model_Feature.feature_importances_,index=df.columns)\n",
    "feature_Important.nlargest(11).plot(kind='barh')\n",
    "plt.show"
   ]
  },
  {
   "cell_type": "code",
   "execution_count": 13,
   "metadata": {},
   "outputs": [],
   "source": [
    "df.drop(['Violations','Accident_ID','Total_Safety_Complaints','Max_Elevation'],axis=1,inplace=True)"
   ]
  },
  {
   "cell_type": "markdown",
   "metadata": {},
   "source": [
    "# Correlation Matrix with Importance"
   ]
  },
  {
   "cell_type": "code",
   "execution_count": 291,
   "metadata": {},
   "outputs": [
    {
     "data": {
      "image/png": "[encoded data removed]",
      "text/plain": [
       "<Figure size 1080x720 with 2 Axes>"
      ]
     },
     "metadata": {
      "needs_background": "light"
     },
     "output_type": "display_data"
    }
   ],
   "source": [
    "corre_Matrix = df.corr()\n",
    "top_corr_features = corre_Matrix.index\n",
    "plt.figure(figsize=(15,10))\n",
    "g = sns.heatmap(df[top_corr_features].corr(),annot=True,cmap='viridis')"
   ]
  },
  {
   "cell_type": "code",
   "execution_count": 265,
   "metadata": {},
   "outputs": [
    {
     "data": {
      "text/plain": [
       "Index(['Safety_Score', 'Days_Since_Inspection', 'Total_Safety_Complaints',\n",
       "       'Control_Metric', 'Turbulence_In_gforces', 'Cabin_Temperature',\n",
       "       'Accident_Type_Code', 'Max_Elevation', 'Violations',\n",
       "       'Adverse_Weather_Metric', 'Accident_ID'],\n",
       "      dtype='object')"
      ]
     },
     "execution_count": 265,
     "metadata": {},
     "output_type": "execute_result"
    }
   ],
   "source": [
    "top_corr_features"
   ]
  },
  {
   "cell_type": "code",
   "execution_count": 11,
   "metadata": {},
   "outputs": [],
   "source": [
    "df.drop(['Severity'],inplace=True,axis=1)"
   ]
  },
  {
   "cell_type": "code",
   "execution_count": 12,
   "metadata": {},
   "outputs": [
    {
     "ename": "NameError",
     "evalue": "name 'y_encode' is not defined",
     "output_type": "error",
     "traceback": [
      "\u001b[1;31m---------------------------------------------------------------------------\u001b[0m",
      "\u001b[1;31mNameError\u001b[0m                                 Traceback (most recent call last)",
      "\u001b[1;32m<ipython-input-12-d3d095a133f9>\u001b[0m in \u001b[0;36m<module>\u001b[1;34m\u001b[0m\n\u001b[1;32m----> 1\u001b[1;33m \u001b[0mdf\u001b[0m \u001b[1;33m=\u001b[0m \u001b[0mpd\u001b[0m\u001b[1;33m.\u001b[0m\u001b[0mconcat\u001b[0m\u001b[1;33m(\u001b[0m\u001b[1;33m[\u001b[0m\u001b[0my_encode\u001b[0m\u001b[1;33m,\u001b[0m\u001b[0mdf\u001b[0m\u001b[1;33m]\u001b[0m\u001b[1;33m,\u001b[0m\u001b[0maxis\u001b[0m\u001b[1;33m=\u001b[0m\u001b[1;36m1\u001b[0m\u001b[1;33m)\u001b[0m\u001b[1;33m\u001b[0m\u001b[1;33m\u001b[0m\u001b[0m\n\u001b[0m",
      "\u001b[1;31mNameError\u001b[0m: name 'y_encode' is not defined"
     ]
    }
   ],
   "source": [
    "df = pd.concat([y_encode,df],axis=1)"
   ]
  },
  {
   "cell_type": "code",
   "execution_count": 286,
   "metadata": {},
   "outputs": [],
   "source": [
    "df.rename(index={0:'Severity'},inplace=True)"
   ]
  },
  {
   "cell_type": "code",
   "execution_count": 305,
   "metadata": {},
   "outputs": [
    {
     "data": {
      "text/html": [
       "<div>\n",
       "<style scoped>\n",
       "    .dataframe tbody tr th:only-of-type {\n",
       "        vertical-align: middle;\n",
       "    }\n",
       "\n",
       "    .dataframe tbody tr th {\n",
       "        vertical-align: top;\n",
       "    }\n",
       "\n",
       "    .dataframe thead th {\n",
       "        text-align: right;\n",
       "    }\n",
       "</style>\n",
       "<table border=\"1\" class=\"dataframe\">\n",
       "  <thead>\n",
       "    <tr style=\"text-align: right;\">\n",
       "      <th></th>\n",
       "      <th>Safety_Score</th>\n",
       "      <th>Days_Since_Inspection</th>\n",
       "      <th>Control_Metric</th>\n",
       "      <th>Turbulence_In_gforces</th>\n",
       "      <th>Cabin_Temperature</th>\n",
       "      <th>Accident_Type_Code</th>\n",
       "      <th>Max_Elevation</th>\n",
       "      <th>Adverse_Weather_Metric</th>\n",
       "    </tr>\n",
       "  </thead>\n",
       "  <tbody>\n",
       "    <tr>\n",
       "      <td>0</td>\n",
       "      <td>49.223744</td>\n",
       "      <td>14</td>\n",
       "      <td>71.285324</td>\n",
       "      <td>0.272118</td>\n",
       "      <td>78.04</td>\n",
       "      <td>2</td>\n",
       "      <td>31335.476824</td>\n",
       "      <td>0.424352</td>\n",
       "    </tr>\n",
       "    <tr>\n",
       "      <td>1</td>\n",
       "      <td>62.465753</td>\n",
       "      <td>10</td>\n",
       "      <td>72.288058</td>\n",
       "      <td>0.423939</td>\n",
       "      <td>84.54</td>\n",
       "      <td>2</td>\n",
       "      <td>26024.711057</td>\n",
       "      <td>0.352350</td>\n",
       "    </tr>\n",
       "    <tr>\n",
       "      <td>2</td>\n",
       "      <td>63.059361</td>\n",
       "      <td>13</td>\n",
       "      <td>66.362808</td>\n",
       "      <td>0.322604</td>\n",
       "      <td>78.86</td>\n",
       "      <td>7</td>\n",
       "      <td>39269.053927</td>\n",
       "      <td>0.003364</td>\n",
       "    </tr>\n",
       "    <tr>\n",
       "      <td>3</td>\n",
       "      <td>48.082192</td>\n",
       "      <td>11</td>\n",
       "      <td>74.703737</td>\n",
       "      <td>0.337029</td>\n",
       "      <td>81.79</td>\n",
       "      <td>3</td>\n",
       "      <td>42771.499200</td>\n",
       "      <td>0.211728</td>\n",
       "    </tr>\n",
       "    <tr>\n",
       "      <td>4</td>\n",
       "      <td>26.484018</td>\n",
       "      <td>13</td>\n",
       "      <td>47.948952</td>\n",
       "      <td>0.541140</td>\n",
       "      <td>77.16</td>\n",
       "      <td>3</td>\n",
       "      <td>35509.228515</td>\n",
       "      <td>0.176883</td>\n",
       "    </tr>\n",
       "  </tbody>\n",
       "</table>\n",
       "</div>"
      ],
      "text/plain": [
       "   Safety_Score  Days_Since_Inspection  Control_Metric  Turbulence_In_gforces  \\\n",
       "0     49.223744                     14       71.285324               0.272118   \n",
       "1     62.465753                     10       72.288058               0.423939   \n",
       "2     63.059361                     13       66.362808               0.322604   \n",
       "3     48.082192                     11       74.703737               0.337029   \n",
       "4     26.484018                     13       47.948952               0.541140   \n",
       "\n",
       "   Cabin_Temperature  Accident_Type_Code  Max_Elevation  \\\n",
       "0              78.04                   2   31335.476824   \n",
       "1              84.54                   2   26024.711057   \n",
       "2              78.86                   7   39269.053927   \n",
       "3              81.79                   3   42771.499200   \n",
       "4              77.16                   3   35509.228515   \n",
       "\n",
       "   Adverse_Weather_Metric  \n",
       "0                0.424352  \n",
       "1                0.352350  \n",
       "2                0.003364  \n",
       "3                0.211728  \n",
       "4                0.176883  "
      ]
     },
     "execution_count": 305,
     "metadata": {},
     "output_type": "execute_result"
    }
   ],
   "source": [
    "df.head()"
   ]
  },
  {
   "cell_type": "code",
   "execution_count": null,
   "metadata": {},
   "outputs": [],
   "source": []
  },
  {
   "cell_type": "code",
   "execution_count": 9,
   "metadata": {},
   "outputs": [
    {
     "data": {
      "text/plain": [
       "10000"
      ]
     },
     "execution_count": 9,
     "metadata": {},
     "output_type": "execute_result"
    }
   ],
   "source": [
    "len(df['Accident_ID'].value_counts())"
   ]
  },
  {
   "cell_type": "code",
   "execution_count": 10,
   "metadata": {},
   "outputs": [
    {
     "data": {
      "text/plain": [
       "12"
      ]
     },
     "execution_count": 10,
     "metadata": {},
     "output_type": "execute_result"
    }
   ],
   "source": [
    "len(df.columns)"
   ]
  },
  {
   "cell_type": "code",
   "execution_count": 141,
   "metadata": {},
   "outputs": [
    {
     "name": "stdout",
     "output_type": "stream",
     "text": [
      "['Viola_2', 'Viola_1', 'Viola_3', 'Viola_0', 'Viola_4', 'Viola_5']\n"
     ]
    }
   ],
   "source": [
    "viola_cols =[('Viola_'+str(x)) for x in df['Violations'].value_counts().sort_values(ascending=False).index]\n",
    "print(viola_cols)"
   ]
  },
  {
   "cell_type": "code",
   "execution_count": 145,
   "metadata": {},
   "outputs": [],
   "source": [
    "for x in viola_cols:\n",
    "    df[x] = np.where(df[\"Violations\"]==int(x.split('_')[1]),1,0)"
   ]
  },
  {
   "cell_type": "code",
   "execution_count": 148,
   "metadata": {},
   "outputs": [
    {
     "data": {
      "text/html": [
       "<div>\n",
       "<style scoped>\n",
       "    .dataframe tbody tr th:only-of-type {\n",
       "        vertical-align: middle;\n",
       "    }\n",
       "\n",
       "    .dataframe tbody tr th {\n",
       "        vertical-align: top;\n",
       "    }\n",
       "\n",
       "    .dataframe thead th {\n",
       "        text-align: right;\n",
       "    }\n",
       "</style>\n",
       "<table border=\"1\" class=\"dataframe\">\n",
       "  <thead>\n",
       "    <tr style=\"text-align: right;\">\n",
       "      <th></th>\n",
       "      <th>Safety_Score</th>\n",
       "      <th>Days_Since_Inspection</th>\n",
       "      <th>Total_Safety_Complaints</th>\n",
       "      <th>Control_Metric</th>\n",
       "      <th>Turbulence_In_gforces</th>\n",
       "      <th>Cabin_Temperature</th>\n",
       "      <th>Max_Elevation</th>\n",
       "      <th>Adverse_Weather_Metric</th>\n",
       "      <th>Viola_2</th>\n",
       "      <th>Viola_1</th>\n",
       "      <th>Viola_3</th>\n",
       "      <th>Viola_0</th>\n",
       "      <th>Viola_4</th>\n",
       "      <th>Viola_5</th>\n",
       "    </tr>\n",
       "  </thead>\n",
       "  <tbody>\n",
       "    <tr>\n",
       "      <td>0</td>\n",
       "      <td>49.223744</td>\n",
       "      <td>14</td>\n",
       "      <td>22</td>\n",
       "      <td>71.285324</td>\n",
       "      <td>0.272118</td>\n",
       "      <td>78.04</td>\n",
       "      <td>31335.476824</td>\n",
       "      <td>0.424352</td>\n",
       "      <td>0</td>\n",
       "      <td>0</td>\n",
       "      <td>1</td>\n",
       "      <td>0</td>\n",
       "      <td>0</td>\n",
       "      <td>0</td>\n",
       "    </tr>\n",
       "    <tr>\n",
       "      <td>1</td>\n",
       "      <td>62.465753</td>\n",
       "      <td>10</td>\n",
       "      <td>27</td>\n",
       "      <td>72.288058</td>\n",
       "      <td>0.423939</td>\n",
       "      <td>84.54</td>\n",
       "      <td>26024.711057</td>\n",
       "      <td>0.352350</td>\n",
       "      <td>1</td>\n",
       "      <td>0</td>\n",
       "      <td>0</td>\n",
       "      <td>0</td>\n",
       "      <td>0</td>\n",
       "      <td>0</td>\n",
       "    </tr>\n",
       "    <tr>\n",
       "      <td>2</td>\n",
       "      <td>63.059361</td>\n",
       "      <td>13</td>\n",
       "      <td>16</td>\n",
       "      <td>66.362808</td>\n",
       "      <td>0.322604</td>\n",
       "      <td>78.86</td>\n",
       "      <td>39269.053927</td>\n",
       "      <td>0.003364</td>\n",
       "      <td>0</td>\n",
       "      <td>0</td>\n",
       "      <td>1</td>\n",
       "      <td>0</td>\n",
       "      <td>0</td>\n",
       "      <td>0</td>\n",
       "    </tr>\n",
       "    <tr>\n",
       "      <td>3</td>\n",
       "      <td>48.082192</td>\n",
       "      <td>11</td>\n",
       "      <td>9</td>\n",
       "      <td>74.703737</td>\n",
       "      <td>0.337029</td>\n",
       "      <td>81.79</td>\n",
       "      <td>42771.499200</td>\n",
       "      <td>0.211728</td>\n",
       "      <td>0</td>\n",
       "      <td>1</td>\n",
       "      <td>0</td>\n",
       "      <td>0</td>\n",
       "      <td>0</td>\n",
       "      <td>0</td>\n",
       "    </tr>\n",
       "    <tr>\n",
       "      <td>4</td>\n",
       "      <td>26.484018</td>\n",
       "      <td>13</td>\n",
       "      <td>25</td>\n",
       "      <td>47.948952</td>\n",
       "      <td>0.541140</td>\n",
       "      <td>77.16</td>\n",
       "      <td>35509.228515</td>\n",
       "      <td>0.176883</td>\n",
       "      <td>1</td>\n",
       "      <td>0</td>\n",
       "      <td>0</td>\n",
       "      <td>0</td>\n",
       "      <td>0</td>\n",
       "      <td>0</td>\n",
       "    </tr>\n",
       "  </tbody>\n",
       "</table>\n",
       "</div>"
      ],
      "text/plain": [
       "   Safety_Score  Days_Since_Inspection  Total_Safety_Complaints  \\\n",
       "0     49.223744                     14                       22   \n",
       "1     62.465753                     10                       27   \n",
       "2     63.059361                     13                       16   \n",
       "3     48.082192                     11                        9   \n",
       "4     26.484018                     13                       25   \n",
       "\n",
       "   Control_Metric  Turbulence_In_gforces  Cabin_Temperature  Max_Elevation  \\\n",
       "0       71.285324               0.272118              78.04   31335.476824   \n",
       "1       72.288058               0.423939              84.54   26024.711057   \n",
       "2       66.362808               0.322604              78.86   39269.053927   \n",
       "3       74.703737               0.337029              81.79   42771.499200   \n",
       "4       47.948952               0.541140              77.16   35509.228515   \n",
       "\n",
       "   Adverse_Weather_Metric  Viola_2  Viola_1  Viola_3  Viola_0  Viola_4  \\\n",
       "0                0.424352        0        0        1        0        0   \n",
       "1                0.352350        1        0        0        0        0   \n",
       "2                0.003364        0        0        1        0        0   \n",
       "3                0.211728        0        1        0        0        0   \n",
       "4                0.176883        1        0        0        0        0   \n",
       "\n",
       "   Viola_5  \n",
       "0        0  \n",
       "1        0  \n",
       "2        0  \n",
       "3        0  \n",
       "4        0  "
      ]
     },
     "execution_count": 148,
     "metadata": {},
     "output_type": "execute_result"
    }
   ],
   "source": [
    "df.head()"
   ]
  },
  {
   "cell_type": "code",
   "execution_count": 147,
   "metadata": {},
   "outputs": [],
   "source": [
    "df.drop(['Violations'],axis=1,inplace=True)"
   ]
  },
  {
   "cell_type": "code",
   "execution_count": 12,
   "metadata": {},
   "outputs": [
    {
     "data": {
      "text/plain": [
       "<matplotlib.axes._subplots.AxesSubplot at 0x2b37d550248>"
      ]
     },
     "execution_count": 12,
     "metadata": {},
     "output_type": "execute_result"
    },
    {
     "data": {
      "image/png": "[encoded data removed]",
      "text/plain": [
       "<Figure size 1080x576 with 1 Axes>"
      ]
     },
     "metadata": {
      "needs_background": "light"
     },
     "output_type": "display_data"
    }
   ],
   "source": [
    "plt.figure(figsize=(15,8))\n",
    "sns.countplot(df['Violations'])"
   ]
  },
  {
   "cell_type": "code",
   "execution_count": 71,
   "metadata": {},
   "outputs": [],
   "source": [
    "df.drop(['Accident_ID'],axis=1,inplace=True)           # Drop the Accident_ID Column\n",
    "df.drop(['Accident_Type_Code'],axis=1,inplace=True)"
   ]
  },
  {
   "cell_type": "code",
   "execution_count": 14,
   "metadata": {},
   "outputs": [],
   "source": [
    "y = df['Severity']"
   ]
  },
  {
   "cell_type": "code",
   "execution_count": 15,
   "metadata": {},
   "outputs": [],
   "source": [
    "df.drop(['Severity'],axis=1,inplace=True)           # Drop the Severity Column"
   ]
  },
  {
   "cell_type": "code",
   "execution_count": 16,
   "metadata": {},
   "outputs": [],
   "source": [
    "from sklearn.preprocessing import LabelEncoder\n",
    "label_encode = LabelEncoder()"
   ]
  },
  {
   "cell_type": "code",
   "execution_count": 17,
   "metadata": {},
   "outputs": [],
   "source": [
    "y_encode = label_encode.fit_transform(y)"
   ]
  },
  {
   "cell_type": "code",
   "execution_count": 18,
   "metadata": {},
   "outputs": [],
   "source": [
    "y_encode = pd.Series(y_encode)"
   ]
  },
  {
   "cell_type": "code",
   "execution_count": 19,
   "metadata": {},
   "outputs": [
    {
     "data": {
      "text/plain": [
       "0    3049\n",
       "3    2729\n",
       "1    2527\n",
       "2    1695\n",
       "dtype: int64"
      ]
     },
     "execution_count": 19,
     "metadata": {},
     "output_type": "execute_result"
    }
   ],
   "source": [
    "y_encode.value_counts()                    \n",
    "\n",
    "# 0--> Highly_Fatal_And_Damaging\n",
    "# 3--> Significant_Damage_And_Serious_Injuries\n",
    "# 1--> Minor_Damage_And_Injuries\n",
    "# 2--> Significant_Damage_And_Fatalities"
   ]
  },
  {
   "cell_type": "code",
   "execution_count": 20,
   "metadata": {},
   "outputs": [],
   "source": [
    "y_hot_encode = pd.get_dummies(y_encode)"
   ]
  },
  {
   "cell_type": "code",
   "execution_count": 21,
   "metadata": {},
   "outputs": [
    {
     "data": {
      "text/plain": [
       "pandas.core.frame.DataFrame"
      ]
     },
     "execution_count": 21,
     "metadata": {},
     "output_type": "execute_result"
    }
   ],
   "source": [
    "type(y_hot_encode)"
   ]
  },
  {
   "cell_type": "code",
   "execution_count": 22,
   "metadata": {},
   "outputs": [
    {
     "name": "stdout",
     "output_type": "stream",
     "text": [
      "Shape of Data:  (10000, 7)\n",
      "Shape of hot_encode:  (10000, 4)\n"
     ]
    }
   ],
   "source": [
    "print('Shape of Data: ',df.shape)\n",
    "print('Shape of hot_encode: ',y_hot_encode.shape)"
   ]
  },
  {
   "cell_type": "code",
   "execution_count": 23,
   "metadata": {},
   "outputs": [
    {
     "data": {
      "text/html": [
       "<div>\n",
       "<style scoped>\n",
       "    .dataframe tbody tr th:only-of-type {\n",
       "        vertical-align: middle;\n",
       "    }\n",
       "\n",
       "    .dataframe tbody tr th {\n",
       "        vertical-align: top;\n",
       "    }\n",
       "\n",
       "    .dataframe thead th {\n",
       "        text-align: right;\n",
       "    }\n",
       "</style>\n",
       "<table border=\"1\" class=\"dataframe\">\n",
       "  <thead>\n",
       "    <tr style=\"text-align: right;\">\n",
       "      <th></th>\n",
       "      <th>Safety_Score</th>\n",
       "      <th>Days_Since_Inspection</th>\n",
       "      <th>Control_Metric</th>\n",
       "      <th>Turbulence_In_gforces</th>\n",
       "      <th>Cabin_Temperature</th>\n",
       "      <th>Accident_Type_Code</th>\n",
       "      <th>Adverse_Weather_Metric</th>\n",
       "    </tr>\n",
       "  </thead>\n",
       "  <tbody>\n",
       "    <tr>\n",
       "      <td>0</td>\n",
       "      <td>49.223744</td>\n",
       "      <td>14</td>\n",
       "      <td>71.285324</td>\n",
       "      <td>0.272118</td>\n",
       "      <td>78.04</td>\n",
       "      <td>2</td>\n",
       "      <td>0.424352</td>\n",
       "    </tr>\n",
       "    <tr>\n",
       "      <td>1</td>\n",
       "      <td>62.465753</td>\n",
       "      <td>10</td>\n",
       "      <td>72.288058</td>\n",
       "      <td>0.423939</td>\n",
       "      <td>84.54</td>\n",
       "      <td>2</td>\n",
       "      <td>0.352350</td>\n",
       "    </tr>\n",
       "    <tr>\n",
       "      <td>2</td>\n",
       "      <td>63.059361</td>\n",
       "      <td>13</td>\n",
       "      <td>66.362808</td>\n",
       "      <td>0.322604</td>\n",
       "      <td>78.86</td>\n",
       "      <td>7</td>\n",
       "      <td>0.003364</td>\n",
       "    </tr>\n",
       "    <tr>\n",
       "      <td>3</td>\n",
       "      <td>48.082192</td>\n",
       "      <td>11</td>\n",
       "      <td>74.703737</td>\n",
       "      <td>0.337029</td>\n",
       "      <td>81.79</td>\n",
       "      <td>3</td>\n",
       "      <td>0.211728</td>\n",
       "    </tr>\n",
       "    <tr>\n",
       "      <td>4</td>\n",
       "      <td>26.484018</td>\n",
       "      <td>13</td>\n",
       "      <td>47.948952</td>\n",
       "      <td>0.541140</td>\n",
       "      <td>77.16</td>\n",
       "      <td>3</td>\n",
       "      <td>0.176883</td>\n",
       "    </tr>\n",
       "  </tbody>\n",
       "</table>\n",
       "</div>"
      ],
      "text/plain": [
       "   Safety_Score  Days_Since_Inspection  Control_Metric  Turbulence_In_gforces  \\\n",
       "0     49.223744                     14       71.285324               0.272118   \n",
       "1     62.465753                     10       72.288058               0.423939   \n",
       "2     63.059361                     13       66.362808               0.322604   \n",
       "3     48.082192                     11       74.703737               0.337029   \n",
       "4     26.484018                     13       47.948952               0.541140   \n",
       "\n",
       "   Cabin_Temperature  Accident_Type_Code  Adverse_Weather_Metric  \n",
       "0              78.04                   2                0.424352  \n",
       "1              84.54                   2                0.352350  \n",
       "2              78.86                   7                0.003364  \n",
       "3              81.79                   3                0.211728  \n",
       "4              77.16                   3                0.176883  "
      ]
     },
     "execution_count": 23,
     "metadata": {},
     "output_type": "execute_result"
    }
   ],
   "source": [
    "df.head()"
   ]
  },
  {
   "cell_type": "markdown",
   "metadata": {},
   "source": [
    "# Data Division"
   ]
  },
  {
   "cell_type": "code",
   "execution_count": 24,
   "metadata": {},
   "outputs": [],
   "source": [
    "from sklearn.model_selection import train_test_split"
   ]
  },
  {
   "cell_type": "code",
   "execution_count": 25,
   "metadata": {},
   "outputs": [],
   "source": [
    "X_train, X_test, y_train, y_test = train_test_split(df, y_hot_encode, test_size=0.1, random_state=42,shuffle=True)"
   ]
  },
  {
   "cell_type": "code",
   "execution_count": 26,
   "metadata": {},
   "outputs": [
    {
     "name": "stdout",
     "output_type": "stream",
     "text": [
      "Shape of X_train:  (9000, 7)\n",
      "Shape of y_train:  (9000, 4)\n",
      "Shape of X_test:  (1000, 7)\n",
      "Shape of y_test:  (1000, 4)\n"
     ]
    }
   ],
   "source": [
    "print('Shape of X_train: ',X_train.shape)\n",
    "print('Shape of y_train: ',y_train.shape)\n",
    "print('Shape of X_test: ',X_test.shape)\n",
    "print('Shape of y_test: ',y_test.shape)"
   ]
  },
  {
   "cell_type": "code",
   "execution_count": 27,
   "metadata": {},
   "outputs": [
    {
     "name": "stderr",
     "output_type": "stream",
     "text": [
      "C:\\Users\\Nikhil\\Anaconda3\\lib\\site-packages\\ipykernel_launcher.py:1: FutureWarning: Method .as_matrix will be removed in a future version. Use .values instead.\n",
      "  \"\"\"Entry point for launching an IPython kernel.\n"
     ]
    }
   ],
   "source": [
    "y_test = y_test.as_matrix()"
   ]
  },
  {
   "cell_type": "code",
   "execution_count": 28,
   "metadata": {},
   "outputs": [],
   "source": [
    "from sklearn.preprocessing import StandardScaler\n",
    "std = StandardScaler()"
   ]
  },
  {
   "cell_type": "code",
   "execution_count": 29,
   "metadata": {},
   "outputs": [],
   "source": [
    "X_train = std.fit_transform(X_train)\n",
    "X_test = std.transform(X_test)"
   ]
  },
  {
   "cell_type": "code",
   "execution_count": 28,
   "metadata": {},
   "outputs": [
    {
     "data": {
      "text/plain": [
       "numpy.ndarray"
      ]
     },
     "execution_count": 28,
     "metadata": {},
     "output_type": "execute_result"
    }
   ],
   "source": [
    "type(X_train)"
   ]
  },
  {
   "cell_type": "markdown",
   "metadata": {},
   "source": [
    "# Principal Component Analysis"
   ]
  },
  {
   "cell_type": "code",
   "execution_count": 30,
   "metadata": {},
   "outputs": [],
   "source": [
    "from sklearn.decomposition import PCA"
   ]
  },
  {
   "cell_type": "code",
   "execution_count": 45,
   "metadata": {},
   "outputs": [],
   "source": [
    "pca = PCA(n_components=3)"
   ]
  },
  {
   "cell_type": "code",
   "execution_count": 46,
   "metadata": {},
   "outputs": [],
   "source": [
    "X_train_pca = pca.fit_transform(X_train)\n",
    "X_test_pca = pca.fit_transform(X_test)"
   ]
  },
  {
   "cell_type": "code",
   "execution_count": 47,
   "metadata": {},
   "outputs": [
    {
     "name": "stdout",
     "output_type": "stream",
     "text": [
      "(9000, 3)\n",
      "(1000, 3)\n"
     ]
    }
   ],
   "source": [
    "print(X_train_pca.shape)\n",
    "print(X_test_pca.shape)"
   ]
  },
  {
   "cell_type": "markdown",
   "metadata": {},
   "source": [
    "# Feature Selection - Backward Elimination"
   ]
  },
  {
   "cell_type": "code",
   "execution_count": 34,
   "metadata": {},
   "outputs": [],
   "source": [
    "import statsmodels.api as sm"
   ]
  },
  {
   "cell_type": "code",
   "execution_count": 39,
   "metadata": {},
   "outputs": [],
   "source": [
    "# X_selection = np.append(arr=)\n",
    "\n",
    "X_train = X_train[:,[0,1,2,3,4,5,6,7,8,9,10]]\n",
    "classifier_ols=sm.OLS(endog=y_train_enco,exog=X_train).fit()"
   ]
  },
  {
   "cell_type": "code",
   "execution_count": 40,
   "metadata": {},
   "outputs": [
    {
     "data": {
      "text/html": [
       "<table class=\"simpletable\">\n",
       "<caption>OLS Regression Results</caption>\n",
       "<tr>\n",
       "  <th>Dep. Variable:</th>            <td>y</td>        <th>  R-squared (uncentered):</th>      <td>   0.044</td> \n",
       "</tr>\n",
       "<tr>\n",
       "  <th>Model:</th>                   <td>OLS</td>       <th>  Adj. R-squared (uncentered):</th> <td>   0.043</td> \n",
       "</tr>\n",
       "<tr>\n",
       "  <th>Method:</th>             <td>Least Squares</td>  <th>  F-statistic:       </th>          <td>   37.62</td> \n",
       "</tr>\n",
       "<tr>\n",
       "  <th>Date:</th>             <td>Sat, 01 Feb 2020</td> <th>  Prob (F-statistic):</th>          <td>5.92e-80</td> \n",
       "</tr>\n",
       "<tr>\n",
       "  <th>Time:</th>                 <td>03:00:23</td>     <th>  Log-Likelihood:    </th>          <td> -18044.</td> \n",
       "</tr>\n",
       "<tr>\n",
       "  <th>No. Observations:</th>      <td>  9000</td>      <th>  AIC:               </th>          <td>3.611e+04</td>\n",
       "</tr>\n",
       "<tr>\n",
       "  <th>Df Residuals:</th>          <td>  8989</td>      <th>  BIC:               </th>          <td>3.619e+04</td>\n",
       "</tr>\n",
       "<tr>\n",
       "  <th>Df Model:</th>              <td>    11</td>      <th>                     </th>              <td> </td>    \n",
       "</tr>\n",
       "<tr>\n",
       "  <th>Covariance Type:</th>      <td>nonrobust</td>    <th>                     </th>              <td> </td>    \n",
       "</tr>\n",
       "</table>\n",
       "<table class=\"simpletable\">\n",
       "<tr>\n",
       "   <td></td>      <th>coef</th>     <th>std err</th>      <th>t</th>      <th>P>|t|</th>  <th>[0.025</th>    <th>0.975]</th>  \n",
       "</tr>\n",
       "<tr>\n",
       "  <th>x1</th>  <td>    0.4039</td> <td>    0.027</td> <td>   15.132</td> <td> 0.000</td> <td>    0.352</td> <td>    0.456</td>\n",
       "</tr>\n",
       "<tr>\n",
       "  <th>x2</th>  <td>    0.2841</td> <td>    0.026</td> <td>   10.817</td> <td> 0.000</td> <td>    0.233</td> <td>    0.336</td>\n",
       "</tr>\n",
       "<tr>\n",
       "  <th>x3</th>  <td>   -0.0103</td> <td>    0.019</td> <td>   -0.539</td> <td> 0.590</td> <td>   -0.048</td> <td>    0.027</td>\n",
       "</tr>\n",
       "<tr>\n",
       "  <th>x4</th>  <td>    0.0397</td> <td>    0.025</td> <td>    1.602</td> <td> 0.109</td> <td>   -0.009</td> <td>    0.088</td>\n",
       "</tr>\n",
       "<tr>\n",
       "  <th>x5</th>  <td>    0.0675</td> <td>    0.025</td> <td>    2.716</td> <td> 0.007</td> <td>    0.019</td> <td>    0.116</td>\n",
       "</tr>\n",
       "<tr>\n",
       "  <th>x6</th>  <td>   -0.0261</td> <td>    0.019</td> <td>   -1.377</td> <td> 0.169</td> <td>   -0.063</td> <td>    0.011</td>\n",
       "</tr>\n",
       "<tr>\n",
       "  <th>x7</th>  <td>    0.1607</td> <td>    0.029</td> <td>    5.452</td> <td> 0.000</td> <td>    0.103</td> <td>    0.218</td>\n",
       "</tr>\n",
       "<tr>\n",
       "  <th>x8</th>  <td>    0.0072</td> <td>    0.020</td> <td>    0.365</td> <td> 0.715</td> <td>   -0.032</td> <td>    0.046</td>\n",
       "</tr>\n",
       "<tr>\n",
       "  <th>x9</th>  <td>    0.0121</td> <td>    0.019</td> <td>    0.637</td> <td> 0.524</td> <td>   -0.025</td> <td>    0.049</td>\n",
       "</tr>\n",
       "<tr>\n",
       "  <th>x10</th> <td>   -0.0331</td> <td>    0.029</td> <td>   -1.125</td> <td> 0.261</td> <td>   -0.091</td> <td>    0.025</td>\n",
       "</tr>\n",
       "<tr>\n",
       "  <th>x11</th> <td>   -0.0049</td> <td>    0.019</td> <td>   -0.260</td> <td> 0.795</td> <td>   -0.042</td> <td>    0.032</td>\n",
       "</tr>\n",
       "</table>\n",
       "<table class=\"simpletable\">\n",
       "<tr>\n",
       "  <th>Omnibus:</th>       <td>24244.950</td> <th>  Durbin-Watson:     </th> <td>   0.771</td> \n",
       "</tr>\n",
       "<tr>\n",
       "  <th>Prob(Omnibus):</th>  <td> 0.000</td>   <th>  Jarque-Bera (JB):  </th> <td> 853.459</td> \n",
       "</tr>\n",
       "<tr>\n",
       "  <th>Skew:</th>           <td> 0.393</td>   <th>  Prob(JB):          </th> <td>4.72e-186</td>\n",
       "</tr>\n",
       "<tr>\n",
       "  <th>Kurtosis:</th>       <td> 1.713</td>   <th>  Cond. No.          </th> <td>    2.96</td> \n",
       "</tr>\n",
       "</table><br/><br/>Warnings:<br/>[1] Standard Errors assume that the covariance matrix of the errors is correctly specified."
      ],
      "text/plain": [
       "<class 'statsmodels.iolib.summary.Summary'>\n",
       "\"\"\"\n",
       "                                 OLS Regression Results                                \n",
       "=======================================================================================\n",
       "Dep. Variable:                      y   R-squared (uncentered):                   0.044\n",
       "Model:                            OLS   Adj. R-squared (uncentered):              0.043\n",
       "Method:                 Least Squares   F-statistic:                              37.62\n",
       "Date:                Sat, 01 Feb 2020   Prob (F-statistic):                    5.92e-80\n",
       "Time:                        03:00:23   Log-Likelihood:                         -18044.\n",
       "No. Observations:                9000   AIC:                                  3.611e+04\n",
       "Df Residuals:                    8989   BIC:                                  3.619e+04\n",
       "Df Model:                          11                                                  \n",
       "Covariance Type:            nonrobust                                                  \n",
       "==============================================================================\n",
       "                 coef    std err          t      P>|t|      [0.025      0.975]\n",
       "------------------------------------------------------------------------------\n",
       "x1             0.4039      0.027     15.132      0.000       0.352       0.456\n",
       "x2             0.2841      0.026     10.817      0.000       0.233       0.336\n",
       "x3            -0.0103      0.019     -0.539      0.590      -0.048       0.027\n",
       "x4             0.0397      0.025      1.602      0.109      -0.009       0.088\n",
       "x5             0.0675      0.025      2.716      0.007       0.019       0.116\n",
       "x6            -0.0261      0.019     -1.377      0.169      -0.063       0.011\n",
       "x7             0.1607      0.029      5.452      0.000       0.103       0.218\n",
       "x8             0.0072      0.020      0.365      0.715      -0.032       0.046\n",
       "x9             0.0121      0.019      0.637      0.524      -0.025       0.049\n",
       "x10           -0.0331      0.029     -1.125      0.261      -0.091       0.025\n",
       "x11           -0.0049      0.019     -0.260      0.795      -0.042       0.032\n",
       "==============================================================================\n",
       "Omnibus:                    24244.950   Durbin-Watson:                   0.771\n",
       "Prob(Omnibus):                  0.000   Jarque-Bera (JB):              853.459\n",
       "Skew:                           0.393   Prob(JB):                    4.72e-186\n",
       "Kurtosis:                       1.713   Cond. No.                         2.96\n",
       "==============================================================================\n",
       "\n",
       "Warnings:\n",
       "[1] Standard Errors assume that the covariance matrix of the errors is correctly specified.\n",
       "\"\"\""
      ]
     },
     "execution_count": 40,
     "metadata": {},
     "output_type": "execute_result"
    }
   ],
   "source": [
    "classifier_ols.summary()"
   ]
  },
  {
   "cell_type": "code",
   "execution_count": 41,
   "metadata": {},
   "outputs": [
    {
     "data": {
      "text/html": [
       "<table class=\"simpletable\">\n",
       "<caption>OLS Regression Results</caption>\n",
       "<tr>\n",
       "  <th>Dep. Variable:</th>            <td>y</td>        <th>  R-squared (uncentered):</th>      <td>   0.044</td> \n",
       "</tr>\n",
       "<tr>\n",
       "  <th>Model:</th>                   <td>OLS</td>       <th>  Adj. R-squared (uncentered):</th> <td>   0.043</td> \n",
       "</tr>\n",
       "<tr>\n",
       "  <th>Method:</th>             <td>Least Squares</td>  <th>  F-statistic:       </th>          <td>   41.38</td> \n",
       "</tr>\n",
       "<tr>\n",
       "  <th>Date:</th>             <td>Sat, 01 Feb 2020</td> <th>  Prob (F-statistic):</th>          <td>9.26e-81</td> \n",
       "</tr>\n",
       "<tr>\n",
       "  <th>Time:</th>                 <td>03:02:15</td>     <th>  Log-Likelihood:    </th>          <td> -18044.</td> \n",
       "</tr>\n",
       "<tr>\n",
       "  <th>No. Observations:</th>      <td>  9000</td>      <th>  AIC:               </th>          <td>3.611e+04</td>\n",
       "</tr>\n",
       "<tr>\n",
       "  <th>Df Residuals:</th>          <td>  8990</td>      <th>  BIC:               </th>          <td>3.618e+04</td>\n",
       "</tr>\n",
       "<tr>\n",
       "  <th>Df Model:</th>              <td>    10</td>      <th>                     </th>              <td> </td>    \n",
       "</tr>\n",
       "<tr>\n",
       "  <th>Covariance Type:</th>      <td>nonrobust</td>    <th>                     </th>              <td> </td>    \n",
       "</tr>\n",
       "</table>\n",
       "<table class=\"simpletable\">\n",
       "<tr>\n",
       "   <td></td>      <th>coef</th>     <th>std err</th>      <th>t</th>      <th>P>|t|</th>  <th>[0.025</th>    <th>0.975]</th>  \n",
       "</tr>\n",
       "<tr>\n",
       "  <th>x1</th>  <td>    0.4039</td> <td>    0.027</td> <td>   15.131</td> <td> 0.000</td> <td>    0.352</td> <td>    0.456</td>\n",
       "</tr>\n",
       "<tr>\n",
       "  <th>x2</th>  <td>    0.2840</td> <td>    0.026</td> <td>   10.816</td> <td> 0.000</td> <td>    0.233</td> <td>    0.336</td>\n",
       "</tr>\n",
       "<tr>\n",
       "  <th>x3</th>  <td>   -0.0103</td> <td>    0.019</td> <td>   -0.540</td> <td> 0.589</td> <td>   -0.048</td> <td>    0.027</td>\n",
       "</tr>\n",
       "<tr>\n",
       "  <th>x4</th>  <td>    0.0397</td> <td>    0.025</td> <td>    1.603</td> <td> 0.109</td> <td>   -0.009</td> <td>    0.088</td>\n",
       "</tr>\n",
       "<tr>\n",
       "  <th>x5</th>  <td>    0.0676</td> <td>    0.025</td> <td>    2.721</td> <td> 0.007</td> <td>    0.019</td> <td>    0.116</td>\n",
       "</tr>\n",
       "<tr>\n",
       "  <th>x6</th>  <td>   -0.0262</td> <td>    0.019</td> <td>   -1.381</td> <td> 0.167</td> <td>   -0.063</td> <td>    0.011</td>\n",
       "</tr>\n",
       "<tr>\n",
       "  <th>x7</th>  <td>    0.1608</td> <td>    0.029</td> <td>    5.456</td> <td> 0.000</td> <td>    0.103</td> <td>    0.219</td>\n",
       "</tr>\n",
       "<tr>\n",
       "  <th>x8</th>  <td>    0.0072</td> <td>    0.020</td> <td>    0.362</td> <td> 0.717</td> <td>   -0.032</td> <td>    0.046</td>\n",
       "</tr>\n",
       "<tr>\n",
       "  <th>x9</th>  <td>    0.0121</td> <td>    0.019</td> <td>    0.635</td> <td> 0.525</td> <td>   -0.025</td> <td>    0.049</td>\n",
       "</tr>\n",
       "<tr>\n",
       "  <th>x10</th> <td>   -0.0331</td> <td>    0.029</td> <td>   -1.124</td> <td> 0.261</td> <td>   -0.091</td> <td>    0.025</td>\n",
       "</tr>\n",
       "</table>\n",
       "<table class=\"simpletable\">\n",
       "<tr>\n",
       "  <th>Omnibus:</th>       <td>24339.530</td> <th>  Durbin-Watson:     </th> <td>   0.771</td> \n",
       "</tr>\n",
       "<tr>\n",
       "  <th>Prob(Omnibus):</th>  <td> 0.000</td>   <th>  Jarque-Bera (JB):  </th> <td> 853.579</td> \n",
       "</tr>\n",
       "<tr>\n",
       "  <th>Skew:</th>           <td> 0.393</td>   <th>  Prob(JB):          </th> <td>4.44e-186</td>\n",
       "</tr>\n",
       "<tr>\n",
       "  <th>Kurtosis:</th>       <td> 1.713</td>   <th>  Cond. No.          </th> <td>    2.96</td> \n",
       "</tr>\n",
       "</table><br/><br/>Warnings:<br/>[1] Standard Errors assume that the covariance matrix of the errors is correctly specified."
      ],
      "text/plain": [
       "<class 'statsmodels.iolib.summary.Summary'>\n",
       "\"\"\"\n",
       "                                 OLS Regression Results                                \n",
       "=======================================================================================\n",
       "Dep. Variable:                      y   R-squared (uncentered):                   0.044\n",
       "Model:                            OLS   Adj. R-squared (uncentered):              0.043\n",
       "Method:                 Least Squares   F-statistic:                              41.38\n",
       "Date:                Sat, 01 Feb 2020   Prob (F-statistic):                    9.26e-81\n",
       "Time:                        03:02:15   Log-Likelihood:                         -18044.\n",
       "No. Observations:                9000   AIC:                                  3.611e+04\n",
       "Df Residuals:                    8990   BIC:                                  3.618e+04\n",
       "Df Model:                          10                                                  \n",
       "Covariance Type:            nonrobust                                                  \n",
       "==============================================================================\n",
       "                 coef    std err          t      P>|t|      [0.025      0.975]\n",
       "------------------------------------------------------------------------------\n",
       "x1             0.4039      0.027     15.131      0.000       0.352       0.456\n",
       "x2             0.2840      0.026     10.816      0.000       0.233       0.336\n",
       "x3            -0.0103      0.019     -0.540      0.589      -0.048       0.027\n",
       "x4             0.0397      0.025      1.603      0.109      -0.009       0.088\n",
       "x5             0.0676      0.025      2.721      0.007       0.019       0.116\n",
       "x6            -0.0262      0.019     -1.381      0.167      -0.063       0.011\n",
       "x7             0.1608      0.029      5.456      0.000       0.103       0.219\n",
       "x8             0.0072      0.020      0.362      0.717      -0.032       0.046\n",
       "x9             0.0121      0.019      0.635      0.525      -0.025       0.049\n",
       "x10           -0.0331      0.029     -1.124      0.261      -0.091       0.025\n",
       "==============================================================================\n",
       "Omnibus:                    24339.530   Durbin-Watson:                   0.771\n",
       "Prob(Omnibus):                  0.000   Jarque-Bera (JB):              853.579\n",
       "Skew:                           0.393   Prob(JB):                    4.44e-186\n",
       "Kurtosis:                       1.713   Cond. No.                         2.96\n",
       "==============================================================================\n",
       "\n",
       "Warnings:\n",
       "[1] Standard Errors assume that the covariance matrix of the errors is correctly specified.\n",
       "\"\"\""
      ]
     },
     "execution_count": 41,
     "metadata": {},
     "output_type": "execute_result"
    }
   ],
   "source": [
    "X_train = X_train[:,[0,1,2,3,4,5,6,7,8,9]]\n",
    "classifier_ols=sm.OLS(endog=y_train_enco,exog=X_train).fit()\n",
    "classifier_ols.summary()"
   ]
  },
  {
   "cell_type": "code",
   "execution_count": 42,
   "metadata": {},
   "outputs": [
    {
     "data": {
      "text/html": [
       "<table class=\"simpletable\">\n",
       "<caption>OLS Regression Results</caption>\n",
       "<tr>\n",
       "  <th>Dep. Variable:</th>            <td>y</td>        <th>  R-squared (uncentered):</th>      <td>   0.044</td> \n",
       "</tr>\n",
       "<tr>\n",
       "  <th>Model:</th>                   <td>OLS</td>       <th>  Adj. R-squared (uncentered):</th> <td>   0.043</td> \n",
       "</tr>\n",
       "<tr>\n",
       "  <th>Method:</th>             <td>Least Squares</td>  <th>  F-statistic:       </th>          <td>   45.97</td> \n",
       "</tr>\n",
       "<tr>\n",
       "  <th>Date:</th>             <td>Sat, 01 Feb 2020</td> <th>  Prob (F-statistic):</th>          <td>1.41e-81</td> \n",
       "</tr>\n",
       "<tr>\n",
       "  <th>Time:</th>                 <td>03:03:37</td>     <th>  Log-Likelihood:    </th>          <td> -18044.</td> \n",
       "</tr>\n",
       "<tr>\n",
       "  <th>No. Observations:</th>      <td>  9000</td>      <th>  AIC:               </th>          <td>3.611e+04</td>\n",
       "</tr>\n",
       "<tr>\n",
       "  <th>Df Residuals:</th>          <td>  8991</td>      <th>  BIC:               </th>          <td>3.617e+04</td>\n",
       "</tr>\n",
       "<tr>\n",
       "  <th>Df Model:</th>              <td>     9</td>      <th>                     </th>              <td> </td>    \n",
       "</tr>\n",
       "<tr>\n",
       "  <th>Covariance Type:</th>      <td>nonrobust</td>    <th>                     </th>              <td> </td>    \n",
       "</tr>\n",
       "</table>\n",
       "<table class=\"simpletable\">\n",
       "<tr>\n",
       "   <td></td>     <th>coef</th>     <th>std err</th>      <th>t</th>      <th>P>|t|</th>  <th>[0.025</th>    <th>0.975]</th>  \n",
       "</tr>\n",
       "<tr>\n",
       "  <th>x1</th> <td>    0.4036</td> <td>    0.027</td> <td>   15.128</td> <td> 0.000</td> <td>    0.351</td> <td>    0.456</td>\n",
       "</tr>\n",
       "<tr>\n",
       "  <th>x2</th> <td>    0.2838</td> <td>    0.026</td> <td>   10.811</td> <td> 0.000</td> <td>    0.232</td> <td>    0.335</td>\n",
       "</tr>\n",
       "<tr>\n",
       "  <th>x3</th> <td>   -0.0101</td> <td>    0.019</td> <td>   -0.532</td> <td> 0.595</td> <td>   -0.047</td> <td>    0.027</td>\n",
       "</tr>\n",
       "<tr>\n",
       "  <th>x4</th> <td>    0.0398</td> <td>    0.025</td> <td>    1.605</td> <td> 0.109</td> <td>   -0.009</td> <td>    0.088</td>\n",
       "</tr>\n",
       "<tr>\n",
       "  <th>x5</th> <td>    0.0679</td> <td>    0.025</td> <td>    2.734</td> <td> 0.006</td> <td>    0.019</td> <td>    0.117</td>\n",
       "</tr>\n",
       "<tr>\n",
       "  <th>x6</th> <td>   -0.0263</td> <td>    0.019</td> <td>   -1.384</td> <td> 0.166</td> <td>   -0.063</td> <td>    0.011</td>\n",
       "</tr>\n",
       "<tr>\n",
       "  <th>x7</th> <td>    0.1632</td> <td>    0.029</td> <td>    5.682</td> <td> 0.000</td> <td>    0.107</td> <td>    0.219</td>\n",
       "</tr>\n",
       "<tr>\n",
       "  <th>x8</th> <td>    0.0119</td> <td>    0.019</td> <td>    0.624</td> <td> 0.533</td> <td>   -0.025</td> <td>    0.049</td>\n",
       "</tr>\n",
       "<tr>\n",
       "  <th>x9</th> <td>   -0.0301</td> <td>    0.028</td> <td>   -1.065</td> <td> 0.287</td> <td>   -0.085</td> <td>    0.025</td>\n",
       "</tr>\n",
       "</table>\n",
       "<table class=\"simpletable\">\n",
       "<tr>\n",
       "  <th>Omnibus:</th>       <td>24293.202</td> <th>  Durbin-Watson:     </th> <td>   0.771</td> \n",
       "</tr>\n",
       "<tr>\n",
       "  <th>Prob(Omnibus):</th>  <td> 0.000</td>   <th>  Jarque-Bera (JB):  </th> <td> 854.462</td> \n",
       "</tr>\n",
       "<tr>\n",
       "  <th>Skew:</th>           <td> 0.394</td>   <th>  Prob(JB):          </th> <td>2.86e-186</td>\n",
       "</tr>\n",
       "<tr>\n",
       "  <th>Kurtosis:</th>       <td> 1.713</td>   <th>  Cond. No.          </th> <td>    2.84</td> \n",
       "</tr>\n",
       "</table><br/><br/>Warnings:<br/>[1] Standard Errors assume that the covariance matrix of the errors is correctly specified."
      ],
      "text/plain": [
       "<class 'statsmodels.iolib.summary.Summary'>\n",
       "\"\"\"\n",
       "                                 OLS Regression Results                                \n",
       "=======================================================================================\n",
       "Dep. Variable:                      y   R-squared (uncentered):                   0.044\n",
       "Model:                            OLS   Adj. R-squared (uncentered):              0.043\n",
       "Method:                 Least Squares   F-statistic:                              45.97\n",
       "Date:                Sat, 01 Feb 2020   Prob (F-statistic):                    1.41e-81\n",
       "Time:                        03:03:37   Log-Likelihood:                         -18044.\n",
       "No. Observations:                9000   AIC:                                  3.611e+04\n",
       "Df Residuals:                    8991   BIC:                                  3.617e+04\n",
       "Df Model:                           9                                                  \n",
       "Covariance Type:            nonrobust                                                  \n",
       "==============================================================================\n",
       "                 coef    std err          t      P>|t|      [0.025      0.975]\n",
       "------------------------------------------------------------------------------\n",
       "x1             0.4036      0.027     15.128      0.000       0.351       0.456\n",
       "x2             0.2838      0.026     10.811      0.000       0.232       0.335\n",
       "x3            -0.0101      0.019     -0.532      0.595      -0.047       0.027\n",
       "x4             0.0398      0.025      1.605      0.109      -0.009       0.088\n",
       "x5             0.0679      0.025      2.734      0.006       0.019       0.117\n",
       "x6            -0.0263      0.019     -1.384      0.166      -0.063       0.011\n",
       "x7             0.1632      0.029      5.682      0.000       0.107       0.219\n",
       "x8             0.0119      0.019      0.624      0.533      -0.025       0.049\n",
       "x9            -0.0301      0.028     -1.065      0.287      -0.085       0.025\n",
       "==============================================================================\n",
       "Omnibus:                    24293.202   Durbin-Watson:                   0.771\n",
       "Prob(Omnibus):                  0.000   Jarque-Bera (JB):              854.462\n",
       "Skew:                           0.394   Prob(JB):                    2.86e-186\n",
       "Kurtosis:                       1.713   Cond. No.                         2.84\n",
       "==============================================================================\n",
       "\n",
       "Warnings:\n",
       "[1] Standard Errors assume that the covariance matrix of the errors is correctly specified.\n",
       "\"\"\""
      ]
     },
     "execution_count": 42,
     "metadata": {},
     "output_type": "execute_result"
    }
   ],
   "source": [
    "X_train = X_train[:,[0,1,2,3,4,5,6,8,9]]\n",
    "classifier_ols=sm.OLS(endog=y_train_enco,exog=X_train).fit()\n",
    "classifier_ols.summary()"
   ]
  },
  {
   "cell_type": "code",
   "execution_count": 47,
   "metadata": {},
   "outputs": [
    {
     "data": {
      "text/html": [
       "<table class=\"simpletable\">\n",
       "<caption>OLS Regression Results</caption>\n",
       "<tr>\n",
       "  <th>Dep. Variable:</th>            <td>y</td>        <th>  R-squared (uncentered):</th>      <td>   0.044</td> \n",
       "</tr>\n",
       "<tr>\n",
       "  <th>Model:</th>                   <td>OLS</td>       <th>  Adj. R-squared (uncentered):</th> <td>   0.043</td> \n",
       "</tr>\n",
       "<tr>\n",
       "  <th>Method:</th>             <td>Least Squares</td>  <th>  F-statistic:       </th>          <td>   51.68</td> \n",
       "</tr>\n",
       "<tr>\n",
       "  <th>Date:</th>             <td>Sat, 01 Feb 2020</td> <th>  Prob (F-statistic):</th>          <td>2.18e-82</td> \n",
       "</tr>\n",
       "<tr>\n",
       "  <th>Time:</th>                 <td>03:07:45</td>     <th>  Log-Likelihood:    </th>          <td> -18044.</td> \n",
       "</tr>\n",
       "<tr>\n",
       "  <th>No. Observations:</th>      <td>  9000</td>      <th>  AIC:               </th>          <td>3.610e+04</td>\n",
       "</tr>\n",
       "<tr>\n",
       "  <th>Df Residuals:</th>          <td>  8992</td>      <th>  BIC:               </th>          <td>3.616e+04</td>\n",
       "</tr>\n",
       "<tr>\n",
       "  <th>Df Model:</th>              <td>     8</td>      <th>                     </th>              <td> </td>    \n",
       "</tr>\n",
       "<tr>\n",
       "  <th>Covariance Type:</th>      <td>nonrobust</td>    <th>                     </th>              <td> </td>    \n",
       "</tr>\n",
       "</table>\n",
       "<table class=\"simpletable\">\n",
       "<tr>\n",
       "   <td></td>     <th>coef</th>     <th>std err</th>      <th>t</th>      <th>P>|t|</th>  <th>[0.025</th>    <th>0.975]</th>  \n",
       "</tr>\n",
       "<tr>\n",
       "  <th>x1</th> <td>    0.4031</td> <td>    0.027</td> <td>   15.119</td> <td> 0.000</td> <td>    0.351</td> <td>    0.455</td>\n",
       "</tr>\n",
       "<tr>\n",
       "  <th>x2</th> <td>    0.2837</td> <td>    0.026</td> <td>   10.808</td> <td> 0.000</td> <td>    0.232</td> <td>    0.335</td>\n",
       "</tr>\n",
       "<tr>\n",
       "  <th>x3</th> <td>    0.0393</td> <td>    0.025</td> <td>    1.588</td> <td> 0.112</td> <td>   -0.009</td> <td>    0.088</td>\n",
       "</tr>\n",
       "<tr>\n",
       "  <th>x4</th> <td>    0.0670</td> <td>    0.025</td> <td>    2.703</td> <td> 0.007</td> <td>    0.018</td> <td>    0.116</td>\n",
       "</tr>\n",
       "<tr>\n",
       "  <th>x5</th> <td>   -0.0265</td> <td>    0.019</td> <td>   -1.395</td> <td> 0.163</td> <td>   -0.064</td> <td>    0.011</td>\n",
       "</tr>\n",
       "<tr>\n",
       "  <th>x6</th> <td>    0.1627</td> <td>    0.029</td> <td>    5.670</td> <td> 0.000</td> <td>    0.106</td> <td>    0.219</td>\n",
       "</tr>\n",
       "<tr>\n",
       "  <th>x7</th> <td>    0.0121</td> <td>    0.019</td> <td>    0.637</td> <td> 0.524</td> <td>   -0.025</td> <td>    0.049</td>\n",
       "</tr>\n",
       "<tr>\n",
       "  <th>x8</th> <td>   -0.0304</td> <td>    0.028</td> <td>   -1.078</td> <td> 0.281</td> <td>   -0.086</td> <td>    0.025</td>\n",
       "</tr>\n",
       "</table>\n",
       "<table class=\"simpletable\">\n",
       "<tr>\n",
       "  <th>Omnibus:</th>       <td>24620.962</td> <th>  Durbin-Watson:     </th> <td>   0.771</td> \n",
       "</tr>\n",
       "<tr>\n",
       "  <th>Prob(Omnibus):</th>  <td> 0.000</td>   <th>  Jarque-Bera (JB):  </th> <td> 855.471</td> \n",
       "</tr>\n",
       "<tr>\n",
       "  <th>Skew:</th>           <td> 0.394</td>   <th>  Prob(JB):          </th> <td>1.72e-186</td>\n",
       "</tr>\n",
       "<tr>\n",
       "  <th>Kurtosis:</th>       <td> 1.712</td>   <th>  Cond. No.          </th> <td>    2.84</td> \n",
       "</tr>\n",
       "</table><br/><br/>Warnings:<br/>[1] Standard Errors assume that the covariance matrix of the errors is correctly specified."
      ],
      "text/plain": [
       "<class 'statsmodels.iolib.summary.Summary'>\n",
       "\"\"\"\n",
       "                                 OLS Regression Results                                \n",
       "=======================================================================================\n",
       "Dep. Variable:                      y   R-squared (uncentered):                   0.044\n",
       "Model:                            OLS   Adj. R-squared (uncentered):              0.043\n",
       "Method:                 Least Squares   F-statistic:                              51.68\n",
       "Date:                Sat, 01 Feb 2020   Prob (F-statistic):                    2.18e-82\n",
       "Time:                        03:07:45   Log-Likelihood:                         -18044.\n",
       "No. Observations:                9000   AIC:                                  3.610e+04\n",
       "Df Residuals:                    8992   BIC:                                  3.616e+04\n",
       "Df Model:                           8                                                  \n",
       "Covariance Type:            nonrobust                                                  \n",
       "==============================================================================\n",
       "                 coef    std err          t      P>|t|      [0.025      0.975]\n",
       "------------------------------------------------------------------------------\n",
       "x1             0.4031      0.027     15.119      0.000       0.351       0.455\n",
       "x2             0.2837      0.026     10.808      0.000       0.232       0.335\n",
       "x3             0.0393      0.025      1.588      0.112      -0.009       0.088\n",
       "x4             0.0670      0.025      2.703      0.007       0.018       0.116\n",
       "x5            -0.0265      0.019     -1.395      0.163      -0.064       0.011\n",
       "x6             0.1627      0.029      5.670      0.000       0.106       0.219\n",
       "x7             0.0121      0.019      0.637      0.524      -0.025       0.049\n",
       "x8            -0.0304      0.028     -1.078      0.281      -0.086       0.025\n",
       "==============================================================================\n",
       "Omnibus:                    24620.962   Durbin-Watson:                   0.771\n",
       "Prob(Omnibus):                  0.000   Jarque-Bera (JB):              855.471\n",
       "Skew:                           0.394   Prob(JB):                    1.72e-186\n",
       "Kurtosis:                       1.712   Cond. No.                         2.84\n",
       "==============================================================================\n",
       "\n",
       "Warnings:\n",
       "[1] Standard Errors assume that the covariance matrix of the errors is correctly specified.\n",
       "\"\"\""
      ]
     },
     "execution_count": 47,
     "metadata": {},
     "output_type": "execute_result"
    }
   ],
   "source": [
    "X_train = X_train[:,[0,1,3,4,5,6,7,8]]\n",
    "classifier_ols=sm.OLS(endog=y_train_enco,exog=X_train).fit()\n",
    "classifier_ols.summary()"
   ]
  },
  {
   "cell_type": "code",
   "execution_count": 48,
   "metadata": {},
   "outputs": [
    {
     "data": {
      "text/plain": [
       "(9000, 8)"
      ]
     },
     "execution_count": 48,
     "metadata": {},
     "output_type": "execute_result"
    }
   ],
   "source": [
    "X_train.shape"
   ]
  },
  {
   "cell_type": "code",
   "execution_count": 52,
   "metadata": {},
   "outputs": [],
   "source": [
    "X_test = X_test[:,[0,1,3,4,5,6,7,8]]"
   ]
  },
  {
   "cell_type": "code",
   "execution_count": null,
   "metadata": {},
   "outputs": [],
   "source": []
  },
  {
   "cell_type": "markdown",
   "metadata": {},
   "source": [
    "# K-nearest Neighbours"
   ]
  },
  {
   "cell_type": "code",
   "execution_count": 59,
   "metadata": {},
   "outputs": [],
   "source": [
    "from sklearn.neighbors import KNeighborsClassifier\n",
    "model1 = KNeighborsClassifier(n_neighbors=11)"
   ]
  },
  {
   "cell_type": "code",
   "execution_count": 60,
   "metadata": {},
   "outputs": [
    {
     "data": {
      "text/plain": [
       "KNeighborsClassifier(algorithm='auto', leaf_size=30, metric='minkowski',\n",
       "                     metric_params=None, n_jobs=None, n_neighbors=11, p=2,\n",
       "                     weights='uniform')"
      ]
     },
     "execution_count": 60,
     "metadata": {},
     "output_type": "execute_result"
    }
   ],
   "source": [
    "model1.fit(X_train,y_train)           "
   ]
  },
  {
   "cell_type": "code",
   "execution_count": 61,
   "metadata": {},
   "outputs": [],
   "source": [
    "predictions1 = model1.predict(X_test)"
   ]
  },
  {
   "cell_type": "code",
   "execution_count": 62,
   "metadata": {},
   "outputs": [],
   "source": [
    "predictions1 = predictions1.argmax(axis=1)"
   ]
  },
  {
   "cell_type": "code",
   "execution_count": 63,
   "metadata": {},
   "outputs": [
    {
     "name": "stdout",
     "output_type": "stream",
     "text": [
      "              precision    recall  f1-score   support\n",
      "\n",
      "           0       0.61      0.82      0.70       314\n",
      "           1       0.62      0.57      0.59       235\n",
      "           2       0.89      0.44      0.59       163\n",
      "           3       0.74      0.71      0.72       288\n",
      "\n",
      "    accuracy                           0.67      1000\n",
      "   macro avg       0.71      0.64      0.65      1000\n",
      "weighted avg       0.69      0.67      0.66      1000\n",
      "\n"
     ]
    }
   ],
   "source": [
    "y_test_1 = y_test.argmax(axis=1)\n",
    "print(classification_report(y_test_1,predictions1))"
   ]
  },
  {
   "cell_type": "code",
   "execution_count": 338,
   "metadata": {},
   "outputs": [
    {
     "data": {
      "text/plain": [
       "<matplotlib.axes._subplots.AxesSubplot at 0x2b30e8bca08>"
      ]
     },
     "execution_count": 338,
     "metadata": {},
     "output_type": "execute_result"
    },
    {
     "data": {
      "image/png": "[encoded data removed]",
      "text/plain": [
       "<Figure size 432x288 with 2 Axes>"
      ]
     },
     "metadata": {
      "needs_background": "light"
     },
     "output_type": "display_data"
    }
   ],
   "source": [
    "#### plt.figure(figsize=(10,8))\n",
    "sns.heatmap(confusion_matrix(y_test_1,predictions1),cmap='viridis',annot=True)"
   ]
  },
  {
   "cell_type": "markdown",
   "metadata": {},
   "source": [
    "# Random Forest Classifier"
   ]
  },
  {
   "cell_type": "code",
   "execution_count": 64,
   "metadata": {},
   "outputs": [],
   "source": [
    "from sklearn.ensemble import RandomForestClassifier\n",
    "model2 = RandomForestClassifier(200,criterion='gini')"
   ]
  },
  {
   "cell_type": "code",
   "execution_count": 65,
   "metadata": {},
   "outputs": [
    {
     "data": {
      "text/plain": [
       "RandomForestClassifier(bootstrap=True, class_weight=None, criterion='gini',\n",
       "                       max_depth=None, max_features='auto', max_leaf_nodes=None,\n",
       "                       min_impurity_decrease=0.0, min_impurity_split=None,\n",
       "                       min_samples_leaf=1, min_samples_split=2,\n",
       "                       min_weight_fraction_leaf=0.0, n_estimators=200,\n",
       "                       n_jobs=None, oob_score=False, random_state=None,\n",
       "                       verbose=0, warm_start=False)"
      ]
     },
     "execution_count": 65,
     "metadata": {},
     "output_type": "execute_result"
    }
   ],
   "source": [
    "model2.fit(X_train,y_train)"
   ]
  },
  {
   "cell_type": "code",
   "execution_count": 66,
   "metadata": {},
   "outputs": [],
   "source": [
    "predictions2 = model2.predict(X_test)"
   ]
  },
  {
   "cell_type": "code",
   "execution_count": 67,
   "metadata": {},
   "outputs": [],
   "source": [
    "predictions2 = predictions2.argmax(axis=1)"
   ]
  },
  {
   "cell_type": "code",
   "execution_count": 68,
   "metadata": {},
   "outputs": [
    {
     "name": "stdout",
     "output_type": "stream",
     "text": [
      "              precision    recall  f1-score   support\n",
      "\n",
      "           0       0.62      0.98      0.76       314\n",
      "           1       0.95      0.70      0.81       235\n",
      "           2       0.96      0.63      0.76       163\n",
      "           3       0.98      0.77      0.86       288\n",
      "\n",
      "    accuracy                           0.80      1000\n",
      "   macro avg       0.88      0.77      0.80      1000\n",
      "weighted avg       0.86      0.80      0.80      1000\n",
      "\n"
     ]
    }
   ],
   "source": [
    "y_test_2 = y_test.argmax(axis=1)\n",
    "print(classification_report(y_test_2,predictions2))"
   ]
  },
  {
   "cell_type": "code",
   "execution_count": 449,
   "metadata": {},
   "outputs": [
    {
     "data": {
      "text/plain": [
       "<matplotlib.axes._subplots.AxesSubplot at 0x2b30e402a08>"
      ]
     },
     "execution_count": 449,
     "metadata": {},
     "output_type": "execute_result"
    },
    {
     "data": {
      "image/png": "[encoded data removed]",
      "text/plain": [
       "<Figure size 432x288 with 2 Axes>"
      ]
     },
     "metadata": {
      "needs_background": "light"
     },
     "output_type": "display_data"
    }
   ],
   "source": [
    "sns.heatmap(confusion_matrix(y_test_2,predictions2),annot=True)"
   ]
  },
  {
   "cell_type": "markdown",
   "metadata": {},
   "source": [
    "# Support Vector Machines"
   ]
  },
  {
   "cell_type": "code",
   "execution_count": 69,
   "metadata": {},
   "outputs": [],
   "source": [
    "from sklearn.svm import SVC\n",
    "model3 = SVC()"
   ]
  },
  {
   "cell_type": "code",
   "execution_count": 38,
   "metadata": {},
   "outputs": [
    {
     "name": "stderr",
     "output_type": "stream",
     "text": [
      "C:\\Users\\Nikhil\\Anaconda3\\lib\\site-packages\\ipykernel_launcher.py:2: FutureWarning: Method .as_matrix will be removed in a future version. Use .values instead.\n",
      "  \n"
     ]
    }
   ],
   "source": [
    "# Run only once\n",
    "y_train = y_train.as_matrix()\n",
    "y_train_enco = y_train.argmax(axis=1)"
   ]
  },
  {
   "cell_type": "code",
   "execution_count": 71,
   "metadata": {},
   "outputs": [
    {
     "data": {
      "text/plain": [
       "SVC(C=1.0, cache_size=200, class_weight=None, coef0=0.0,\n",
       "    decision_function_shape='ovr', degree=3, gamma='auto_deprecated',\n",
       "    kernel='rbf', max_iter=-1, probability=False, random_state=None,\n",
       "    shrinking=True, tol=0.001, verbose=False)"
      ]
     },
     "execution_count": 71,
     "metadata": {},
     "output_type": "execute_result"
    }
   ],
   "source": [
    "model3.fit(X_train,y_train_enco)"
   ]
  },
  {
   "cell_type": "code",
   "execution_count": 72,
   "metadata": {},
   "outputs": [],
   "source": [
    "predictions3 = model3.predict(X_test)"
   ]
  },
  {
   "cell_type": "code",
   "execution_count": 73,
   "metadata": {},
   "outputs": [
    {
     "name": "stdout",
     "output_type": "stream",
     "text": [
      "              precision    recall  f1-score   support\n",
      "\n",
      "           0       0.87      0.88      0.87       314\n",
      "           1       0.85      0.95      0.90       235\n",
      "           2       0.90      0.79      0.84       163\n",
      "           3       0.94      0.90      0.92       288\n",
      "\n",
      "    accuracy                           0.89      1000\n",
      "   macro avg       0.89      0.88      0.88      1000\n",
      "weighted avg       0.89      0.89      0.89      1000\n",
      "\n"
     ]
    }
   ],
   "source": [
    "print(classification_report(y_test_2,predictions3))"
   ]
  },
  {
   "cell_type": "markdown",
   "metadata": {},
   "source": [
    "# SGD Classifier"
   ]
  },
  {
   "cell_type": "code",
   "execution_count": 491,
   "metadata": {},
   "outputs": [],
   "source": [
    "from sklearn.linear_model import SGDClassifier\n",
    "sgd = SGDClassifier(loss=\"modified_huber\",shuffle=False,alpha=0.001,early_stopping=True)"
   ]
  },
  {
   "cell_type": "code",
   "execution_count": 492,
   "metadata": {},
   "outputs": [],
   "source": [
    "model4 = sgd.fit(X_train,y_train_enco)"
   ]
  },
  {
   "cell_type": "code",
   "execution_count": 493,
   "metadata": {},
   "outputs": [],
   "source": [
    "predictions4 = model4.predict(X_test)"
   ]
  },
  {
   "cell_type": "code",
   "execution_count": 494,
   "metadata": {},
   "outputs": [
    {
     "name": "stdout",
     "output_type": "stream",
     "text": [
      "              precision    recall  f1-score   support\n",
      "\n",
      "           0       0.58      0.70      0.64       314\n",
      "           1       0.51      0.59      0.54       235\n",
      "           2       0.27      0.38      0.32       163\n",
      "           3       0.49      0.20      0.29       288\n",
      "\n",
      "    accuracy                           0.48      1000\n",
      "   macro avg       0.46      0.47      0.45      1000\n",
      "weighted avg       0.49      0.48      0.46      1000\n",
      "\n"
     ]
    }
   ],
   "source": [
    "print(classification_report(y_test_2,predictions4))"
   ]
  },
  {
   "cell_type": "markdown",
   "metadata": {},
   "source": [
    "# Decision Tree"
   ]
  },
  {
   "cell_type": "code",
   "execution_count": 495,
   "metadata": {},
   "outputs": [],
   "source": [
    "from sklearn.tree import DecisionTreeClassifier\n",
    "model6 = DecisionTreeClassifier()"
   ]
  },
  {
   "cell_type": "code",
   "execution_count": 496,
   "metadata": {},
   "outputs": [
    {
     "data": {
      "text/plain": [
       "DecisionTreeClassifier(class_weight=None, criterion='gini', max_depth=None,\n",
       "                       max_features=None, max_leaf_nodes=None,\n",
       "                       min_impurity_decrease=0.0, min_impurity_split=None,\n",
       "                       min_samples_leaf=1, min_samples_split=2,\n",
       "                       min_weight_fraction_leaf=0.0, presort=False,\n",
       "                       random_state=None, splitter='best')"
      ]
     },
     "execution_count": 496,
     "metadata": {},
     "output_type": "execute_result"
    }
   ],
   "source": [
    "model6.fit(X_train,y_train)"
   ]
  },
  {
   "cell_type": "code",
   "execution_count": 498,
   "metadata": {},
   "outputs": [],
   "source": [
    "predictions5 = model6.predict(X_test)"
   ]
  },
  {
   "cell_type": "code",
   "execution_count": 501,
   "metadata": {},
   "outputs": [],
   "source": [
    "predictions5 = predictions5.argmax(axis=1)"
   ]
  },
  {
   "cell_type": "code",
   "execution_count": 503,
   "metadata": {},
   "outputs": [
    {
     "name": "stdout",
     "output_type": "stream",
     "text": [
      "              precision    recall  f1-score   support\n",
      "\n",
      "           0       0.94      0.81      0.87       314\n",
      "           1       0.84      0.88      0.86       235\n",
      "           2       0.86      0.89      0.88       163\n",
      "           3       0.82      0.89      0.85       288\n",
      "\n",
      "    accuracy                           0.86      1000\n",
      "   macro avg       0.86      0.87      0.86      1000\n",
      "weighted avg       0.87      0.86      0.86      1000\n",
      "\n"
     ]
    }
   ],
   "source": [
    "print(classification_report(y_test_2,predictions5))"
   ]
  },
  {
   "cell_type": "code",
   "execution_count": 525,
   "metadata": {},
   "outputs": [],
   "source": [
    "from sklearn.multiclass import OneVsRestClassifier\n",
    "dnn = OneVsRestClassifier(SVC(probability=True))"
   ]
  },
  {
   "cell_type": "code",
   "execution_count": 526,
   "metadata": {},
   "outputs": [
    {
     "data": {
      "text/plain": [
       "OneVsRestClassifier(estimator=SVC(C=1.0, cache_size=200, class_weight=None,\n",
       "                                  coef0=0.0, decision_function_shape='ovr',\n",
       "                                  degree=3, gamma='auto_deprecated',\n",
       "                                  kernel='rbf', max_iter=-1, probability=True,\n",
       "                                  random_state=None, shrinking=True, tol=0.001,\n",
       "                                  verbose=False),\n",
       "                    n_jobs=None)"
      ]
     },
     "execution_count": 526,
     "metadata": {},
     "output_type": "execute_result"
    }
   ],
   "source": [
    "dnn.fit(X_train,y_train)"
   ]
  },
  {
   "cell_type": "code",
   "execution_count": 527,
   "metadata": {},
   "outputs": [],
   "source": [
    "predictions7 = dnn.predict_proba(X_test)"
   ]
  },
  {
   "cell_type": "code",
   "execution_count": 529,
   "metadata": {},
   "outputs": [],
   "source": [
    "predictions7 = predictions7.argmax(axis=1)"
   ]
  },
  {
   "cell_type": "markdown",
   "metadata": {},
   "source": [
    "# XGBOOST Classifier"
   ]
  },
  {
   "cell_type": "code",
   "execution_count": 30,
   "metadata": {},
   "outputs": [],
   "source": [
    "from xgboost import XGBClassifier"
   ]
  },
  {
   "cell_type": "code",
   "execution_count": 34,
   "metadata": {},
   "outputs": [],
   "source": [
    "model_xgb = XGBClassifier(learning_rate=0.1,n_estimators=1000,objective='multi:softmax',nthread=4,gamma=0.2\n",
    "                          ,colsample_bytree=0.8)"
   ]
  },
  {
   "cell_type": "code",
   "execution_count": 35,
   "metadata": {},
   "outputs": [],
   "source": [
    "parameters = [ {'learning_rate': [0.1 , 0.01 ,0.05 ,0.001], 'max_depth': range(3,10,2), 'min_child_weight': range(1,6,2)}\n",
    "]"
   ]
  },
  {
   "cell_type": "code",
   "execution_count": 36,
   "metadata": {},
   "outputs": [],
   "source": [
    "grid_search = GridSearchCV(estimator=model_xgb,param_grid=parameters,scoring='accuracy',cv=10)"
   ]
  },
  {
   "cell_type": "code",
   "execution_count": null,
   "metadata": {},
   "outputs": [],
   "source": [
    "grid_search.fit(X_train,y_train_enco)"
   ]
  },
  {
   "cell_type": "code",
   "execution_count": null,
   "metadata": {},
   "outputs": [],
   "source": []
  },
  {
   "cell_type": "code",
   "execution_count": null,
   "metadata": {},
   "outputs": [],
   "source": []
  },
  {
   "cell_type": "code",
   "execution_count": null,
   "metadata": {},
   "outputs": [],
   "source": []
  },
  {
   "cell_type": "code",
   "execution_count": null,
   "metadata": {},
   "outputs": [],
   "source": []
  },
  {
   "cell_type": "code",
   "execution_count": null,
   "metadata": {},
   "outputs": [],
   "source": []
  },
  {
   "cell_type": "code",
   "execution_count": null,
   "metadata": {},
   "outputs": [],
   "source": []
  },
  {
   "cell_type": "code",
   "execution_count": null,
   "metadata": {},
   "outputs": [],
   "source": []
  },
  {
   "cell_type": "code",
   "execution_count": null,
   "metadata": {},
   "outputs": [],
   "source": []
  },
  {
   "cell_type": "code",
   "execution_count": null,
   "metadata": {},
   "outputs": [],
   "source": []
  },
  {
   "cell_type": "code",
   "execution_count": null,
   "metadata": {},
   "outputs": [],
   "source": []
  },
  {
   "cell_type": "code",
   "execution_count": 75,
   "metadata": {},
   "outputs": [],
   "source": []
  },
  {
   "cell_type": "code",
   "execution_count": 76,
   "metadata": {},
   "outputs": [
    {
     "data": {
      "text/plain": [
       "XGBClassifier(base_score=0.5, booster='gbtree', colsample_bylevel=1,\n",
       "              colsample_bynode=1, colsample_bytree=0.8, gamma=0.2,\n",
       "              learning_rate=0.1, max_delta_step=0, max_depth=5,\n",
       "              min_child_weight=1, missing=None, n_estimators=500, n_jobs=1,\n",
       "              nthread=4, objective='multi:softprob', random_state=0,\n",
       "              reg_alpha=0, reg_lambda=1, scale_pos_weight=1, seed=None,\n",
       "              silent=None, subsample=1, verbosity=1)"
      ]
     },
     "execution_count": 76,
     "metadata": {},
     "output_type": "execute_result"
    }
   ],
   "source": [
    "model_xgb.fit(X_train,y_train_enco)"
   ]
  },
  {
   "cell_type": "code",
   "execution_count": 77,
   "metadata": {},
   "outputs": [],
   "source": [
    "predictionns_xgb = model_xgb.predict(X_test)"
   ]
  },
  {
   "cell_type": "code",
   "execution_count": 78,
   "metadata": {},
   "outputs": [
    {
     "name": "stdout",
     "output_type": "stream",
     "text": [
      "              precision    recall  f1-score   support\n",
      "\n",
      "           0       0.92      0.95      0.93       314\n",
      "           1       0.93      0.94      0.94       235\n",
      "           2       0.97      0.87      0.91       163\n",
      "           3       0.94      0.96      0.95       288\n",
      "\n",
      "    accuracy                           0.94      1000\n",
      "   macro avg       0.94      0.93      0.93      1000\n",
      "weighted avg       0.94      0.94      0.94      1000\n",
      "\n"
     ]
    }
   ],
   "source": [
    "y_test_2 = y_test.argmax(axis=1)\n",
    "print(classification_report(y_test_2,predictionns_xgb))"
   ]
  },
  {
   "cell_type": "code",
   "execution_count": 48,
   "metadata": {},
   "outputs": [
    {
     "data": {
      "text/plain": [
       "<matplotlib.axes._subplots.AxesSubplot at 0x20f7d5efb08>"
      ]
     },
     "execution_count": 48,
     "metadata": {},
     "output_type": "execute_result"
    },
    {
     "data": {
      "image/png": "[encoded data removed]",
      "text/plain": [
       "<Figure size 432x288 with 2 Axes>"
      ]
     },
     "metadata": {
      "needs_background": "light"
     },
     "output_type": "display_data"
    }
   ],
   "source": [
    "sns.heatmap(confusion_matrix(y_test_2,predictionns_xgb),annot=True)"
   ]
  },
  {
   "cell_type": "markdown",
   "metadata": {},
   "source": [
    "# Sample  Submission "
   ]
  },
  {
   "cell_type": "code",
   "execution_count": 105,
   "metadata": {},
   "outputs": [],
   "source": [
    "sample = pd.read_csv('sample_submission.csv')"
   ]
  },
  {
   "cell_type": "code",
   "execution_count": 106,
   "metadata": {},
   "outputs": [
    {
     "data": {
      "text/html": [
       "<div>\n",
       "<style scoped>\n",
       "    .dataframe tbody tr th:only-of-type {\n",
       "        vertical-align: middle;\n",
       "    }\n",
       "\n",
       "    .dataframe tbody tr th {\n",
       "        vertical-align: top;\n",
       "    }\n",
       "\n",
       "    .dataframe thead th {\n",
       "        text-align: right;\n",
       "    }\n",
       "</style>\n",
       "<table border=\"1\" class=\"dataframe\">\n",
       "  <thead>\n",
       "    <tr style=\"text-align: right;\">\n",
       "      <th></th>\n",
       "      <th>Accident_ID</th>\n",
       "      <th>Severity</th>\n",
       "    </tr>\n",
       "  </thead>\n",
       "  <tbody>\n",
       "    <tr>\n",
       "      <td>0</td>\n",
       "      <td>1</td>\n",
       "      <td>Minor_Damage_And_Injuries</td>\n",
       "    </tr>\n",
       "    <tr>\n",
       "      <td>1</td>\n",
       "      <td>10</td>\n",
       "      <td>Highly_Fatal_And_Damaging</td>\n",
       "    </tr>\n",
       "    <tr>\n",
       "      <td>2</td>\n",
       "      <td>14</td>\n",
       "      <td>Highly_Fatal_And_Damaging</td>\n",
       "    </tr>\n",
       "    <tr>\n",
       "      <td>3</td>\n",
       "      <td>17</td>\n",
       "      <td>Significant_Damage_And_Serious_Injuries</td>\n",
       "    </tr>\n",
       "    <tr>\n",
       "      <td>4</td>\n",
       "      <td>21</td>\n",
       "      <td>Minor_Damage_And_Injuries</td>\n",
       "    </tr>\n",
       "  </tbody>\n",
       "</table>\n",
       "</div>"
      ],
      "text/plain": [
       "   Accident_ID                                 Severity\n",
       "0            1                Minor_Damage_And_Injuries\n",
       "1           10                Highly_Fatal_And_Damaging\n",
       "2           14                Highly_Fatal_And_Damaging\n",
       "3           17  Significant_Damage_And_Serious_Injuries\n",
       "4           21                Minor_Damage_And_Injuries"
      ]
     },
     "execution_count": 106,
     "metadata": {},
     "output_type": "execute_result"
    }
   ],
   "source": [
    "sample.head()"
   ]
  },
  {
   "cell_type": "markdown",
   "metadata": {},
   "source": [
    "# Test Data "
   ]
  },
  {
   "cell_type": "code",
   "execution_count": 107,
   "metadata": {},
   "outputs": [],
   "source": [
    "test_data = pd.read_csv('test.csv')"
   ]
  },
  {
   "cell_type": "code",
   "execution_count": 108,
   "metadata": {},
   "outputs": [
    {
     "data": {
      "text/html": [
       "<div>\n",
       "<style scoped>\n",
       "    .dataframe tbody tr th:only-of-type {\n",
       "        vertical-align: middle;\n",
       "    }\n",
       "\n",
       "    .dataframe tbody tr th {\n",
       "        vertical-align: top;\n",
       "    }\n",
       "\n",
       "    .dataframe thead th {\n",
       "        text-align: right;\n",
       "    }\n",
       "</style>\n",
       "<table border=\"1\" class=\"dataframe\">\n",
       "  <thead>\n",
       "    <tr style=\"text-align: right;\">\n",
       "      <th></th>\n",
       "      <th>Safety_Score</th>\n",
       "      <th>Days_Since_Inspection</th>\n",
       "      <th>Total_Safety_Complaints</th>\n",
       "      <th>Control_Metric</th>\n",
       "      <th>Turbulence_In_gforces</th>\n",
       "      <th>Cabin_Temperature</th>\n",
       "      <th>Accident_Type_Code</th>\n",
       "      <th>Max_Elevation</th>\n",
       "      <th>Violations</th>\n",
       "      <th>Adverse_Weather_Metric</th>\n",
       "      <th>Accident_ID</th>\n",
       "    </tr>\n",
       "  </thead>\n",
       "  <tbody>\n",
       "    <tr>\n",
       "      <td>0</td>\n",
       "      <td>19.497717</td>\n",
       "      <td>16</td>\n",
       "      <td>6</td>\n",
       "      <td>72.151322</td>\n",
       "      <td>0.388959</td>\n",
       "      <td>78.32</td>\n",
       "      <td>4</td>\n",
       "      <td>37949.724386</td>\n",
       "      <td>2</td>\n",
       "      <td>0.069692</td>\n",
       "      <td>1</td>\n",
       "    </tr>\n",
       "    <tr>\n",
       "      <td>1</td>\n",
       "      <td>58.173516</td>\n",
       "      <td>15</td>\n",
       "      <td>3</td>\n",
       "      <td>64.585232</td>\n",
       "      <td>0.250841</td>\n",
       "      <td>78.60</td>\n",
       "      <td>7</td>\n",
       "      <td>30194.805567</td>\n",
       "      <td>2</td>\n",
       "      <td>0.002777</td>\n",
       "      <td>10</td>\n",
       "    </tr>\n",
       "    <tr>\n",
       "      <td>2</td>\n",
       "      <td>33.287671</td>\n",
       "      <td>15</td>\n",
       "      <td>3</td>\n",
       "      <td>64.721969</td>\n",
       "      <td>0.336669</td>\n",
       "      <td>86.96</td>\n",
       "      <td>6</td>\n",
       "      <td>17572.925484</td>\n",
       "      <td>1</td>\n",
       "      <td>0.004316</td>\n",
       "      <td>14</td>\n",
       "    </tr>\n",
       "    <tr>\n",
       "      <td>3</td>\n",
       "      <td>3.287671</td>\n",
       "      <td>21</td>\n",
       "      <td>5</td>\n",
       "      <td>66.362808</td>\n",
       "      <td>0.421775</td>\n",
       "      <td>80.86</td>\n",
       "      <td>3</td>\n",
       "      <td>40209.186341</td>\n",
       "      <td>2</td>\n",
       "      <td>0.199990</td>\n",
       "      <td>17</td>\n",
       "    </tr>\n",
       "    <tr>\n",
       "      <td>4</td>\n",
       "      <td>10.867580</td>\n",
       "      <td>18</td>\n",
       "      <td>2</td>\n",
       "      <td>56.107566</td>\n",
       "      <td>0.313228</td>\n",
       "      <td>79.22</td>\n",
       "      <td>2</td>\n",
       "      <td>35495.525408</td>\n",
       "      <td>2</td>\n",
       "      <td>0.483696</td>\n",
       "      <td>21</td>\n",
       "    </tr>\n",
       "  </tbody>\n",
       "</table>\n",
       "</div>"
      ],
      "text/plain": [
       "   Safety_Score  Days_Since_Inspection  Total_Safety_Complaints  \\\n",
       "0     19.497717                     16                        6   \n",
       "1     58.173516                     15                        3   \n",
       "2     33.287671                     15                        3   \n",
       "3      3.287671                     21                        5   \n",
       "4     10.867580                     18                        2   \n",
       "\n",
       "   Control_Metric  Turbulence_In_gforces  Cabin_Temperature  \\\n",
       "0       72.151322               0.388959              78.32   \n",
       "1       64.585232               0.250841              78.60   \n",
       "2       64.721969               0.336669              86.96   \n",
       "3       66.362808               0.421775              80.86   \n",
       "4       56.107566               0.313228              79.22   \n",
       "\n",
       "   Accident_Type_Code  Max_Elevation  Violations  Adverse_Weather_Metric  \\\n",
       "0                   4   37949.724386           2                0.069692   \n",
       "1                   7   30194.805567           2                0.002777   \n",
       "2                   6   17572.925484           1                0.004316   \n",
       "3                   3   40209.186341           2                0.199990   \n",
       "4                   2   35495.525408           2                0.483696   \n",
       "\n",
       "   Accident_ID  \n",
       "0            1  \n",
       "1           10  \n",
       "2           14  \n",
       "3           17  \n",
       "4           21  "
      ]
     },
     "execution_count": 108,
     "metadata": {},
     "output_type": "execute_result"
    }
   ],
   "source": [
    "test_data.head()"
   ]
  },
  {
   "cell_type": "code",
   "execution_count": 109,
   "metadata": {},
   "outputs": [],
   "source": [
    "acc_id = test_data['Accident_ID']"
   ]
  },
  {
   "cell_type": "code",
   "execution_count": 110,
   "metadata": {},
   "outputs": [],
   "source": [
    "test_data.drop(['Violations','Accident_ID','Total_Safety_Complaints','Max_Elevation'],inplace=True,axis=1)"
   ]
  },
  {
   "cell_type": "code",
   "execution_count": 190,
   "metadata": {},
   "outputs": [],
   "source": [
    "for x in viola_cols:\n",
    "    test_data[x] = np.where(test_data[\"Violations\"]==int(x.split('_')[1]),1,0)"
   ]
  },
  {
   "cell_type": "code",
   "execution_count": 191,
   "metadata": {},
   "outputs": [],
   "source": [
    "test_data.drop(['Violations'],axis=1,inplace=True)\n",
    "test_data.drop([\"Accident_Type_Code\"],axis=1,inplace=True)"
   ]
  },
  {
   "cell_type": "code",
   "execution_count": 111,
   "metadata": {},
   "outputs": [
    {
     "data": {
      "text/plain": [
       "(2500, 7)"
      ]
     },
     "execution_count": 111,
     "metadata": {},
     "output_type": "execute_result"
    }
   ],
   "source": [
    "test_data.shape"
   ]
  },
  {
   "cell_type": "markdown",
   "metadata": {},
   "source": [
    "# Standard Scaler"
   ]
  },
  {
   "cell_type": "code",
   "execution_count": 112,
   "metadata": {},
   "outputs": [],
   "source": [
    "test_data = std.fit_transform(test_data)"
   ]
  },
  {
   "cell_type": "markdown",
   "metadata": {},
   "source": [
    "# Predictions"
   ]
  },
  {
   "cell_type": "code",
   "execution_count": 113,
   "metadata": {},
   "outputs": [],
   "source": [
    "test_predictions = model_xgb.predict(test_data)"
   ]
  },
  {
   "cell_type": "code",
   "execution_count": 114,
   "metadata": {},
   "outputs": [
    {
     "data": {
      "text/plain": [
       "(2500,)"
      ]
     },
     "execution_count": 114,
     "metadata": {},
     "output_type": "execute_result"
    }
   ],
   "source": [
    "test_predictions.shape"
   ]
  },
  {
   "cell_type": "code",
   "execution_count": 376,
   "metadata": {},
   "outputs": [],
   "source": [
    "# not required for SVC,XGBOOST\n",
    "test_predictions_code = test_predictions.argmax(axis=1)"
   ]
  },
  {
   "cell_type": "code",
   "execution_count": 377,
   "metadata": {},
   "outputs": [
    {
     "data": {
      "text/plain": [
       "(2500,)"
      ]
     },
     "execution_count": 377,
     "metadata": {},
     "output_type": "execute_result"
    }
   ],
   "source": [
    "test_predictions_code.shape\n",
    "\n",
    "# 0--> Highly_Fatal_And_Damaging\n",
    "# 3--> Significant_Damage_And_Serious_Injuries\n",
    "# 1--> Minor_Damage_And_Injuries\n",
    "# 2--> Significant_Damage_And_Fatalities"
   ]
  },
  {
   "cell_type": "code",
   "execution_count": 115,
   "metadata": {},
   "outputs": [],
   "source": [
    "test_pred = []\n",
    "for x in test_predictions:\n",
    "    if(x==0):\n",
    "        test_pred.append('Highly_Fatal_And_Damaging')\n",
    "    elif(x==1):\n",
    "        test_pred.append('Minor_Damage_And_Injuries')\n",
    "    elif(x==2):\n",
    "        test_pred.append('Significant_Damage_And_Fatalities')\n",
    "    else:\n",
    "        test_pred.append('Significant_Damage_And_Serious_Injuries')"
   ]
  },
  {
   "cell_type": "code",
   "execution_count": 116,
   "metadata": {},
   "outputs": [
    {
     "data": {
      "text/plain": [
       "['Highly_Fatal_And_Damaging',\n",
       " 'Significant_Damage_And_Fatalities',\n",
       " 'Significant_Damage_And_Serious_Injuries',\n",
       " 'Highly_Fatal_And_Damaging',\n",
       " 'Significant_Damage_And_Fatalities',\n",
       " 'Significant_Damage_And_Fatalities',\n",
       " 'Significant_Damage_And_Fatalities',\n",
       " 'Highly_Fatal_And_Damaging',\n",
       " 'Highly_Fatal_And_Damaging',\n",
       " 'Significant_Damage_And_Serious_Injuries',\n",
       " 'Minor_Damage_And_Injuries',\n",
       " 'Significant_Damage_And_Serious_Injuries',\n",
       " 'Highly_Fatal_And_Damaging',\n",
       " 'Significant_Damage_And_Serious_Injuries',\n",
       " 'Significant_Damage_And_Fatalities',\n",
       " 'Significant_Damage_And_Serious_Injuries',\n",
       " 'Highly_Fatal_And_Damaging',\n",
       " 'Significant_Damage_And_Serious_Injuries',\n",
       " 'Minor_Damage_And_Injuries',\n",
       " 'Significant_Damage_And_Fatalities',\n",
       " 'Highly_Fatal_And_Damaging',\n",
       " 'Significant_Damage_And_Serious_Injuries',\n",
       " 'Significant_Damage_And_Fatalities',\n",
       " 'Highly_Fatal_And_Damaging',\n",
       " 'Highly_Fatal_And_Damaging',\n",
       " 'Significant_Damage_And_Fatalities',\n",
       " 'Significant_Damage_And_Fatalities',\n",
       " 'Highly_Fatal_And_Damaging',\n",
       " 'Significant_Damage_And_Fatalities',\n",
       " 'Significant_Damage_And_Serious_Injuries',\n",
       " 'Minor_Damage_And_Injuries',\n",
       " 'Minor_Damage_And_Injuries',\n",
       " 'Minor_Damage_And_Injuries',\n",
       " 'Highly_Fatal_And_Damaging',\n",
       " 'Highly_Fatal_And_Damaging',\n",
       " 'Minor_Damage_And_Injuries',\n",
       " 'Highly_Fatal_And_Damaging',\n",
       " 'Minor_Damage_And_Injuries',\n",
       " 'Highly_Fatal_And_Damaging',\n",
       " 'Significant_Damage_And_Serious_Injuries',\n",
       " 'Minor_Damage_And_Injuries',\n",
       " 'Significant_Damage_And_Serious_Injuries',\n",
       " 'Significant_Damage_And_Fatalities',\n",
       " 'Significant_Damage_And_Fatalities',\n",
       " 'Significant_Damage_And_Fatalities',\n",
       " 'Highly_Fatal_And_Damaging',\n",
       " 'Minor_Damage_And_Injuries',\n",
       " 'Minor_Damage_And_Injuries',\n",
       " 'Highly_Fatal_And_Damaging',\n",
       " 'Significant_Damage_And_Serious_Injuries',\n",
       " 'Minor_Damage_And_Injuries',\n",
       " 'Highly_Fatal_And_Damaging',\n",
       " 'Significant_Damage_And_Fatalities',\n",
       " 'Highly_Fatal_And_Damaging',\n",
       " 'Highly_Fatal_And_Damaging',\n",
       " 'Minor_Damage_And_Injuries',\n",
       " 'Highly_Fatal_And_Damaging',\n",
       " 'Minor_Damage_And_Injuries',\n",
       " 'Highly_Fatal_And_Damaging',\n",
       " 'Highly_Fatal_And_Damaging',\n",
       " 'Minor_Damage_And_Injuries',\n",
       " 'Minor_Damage_And_Injuries',\n",
       " 'Significant_Damage_And_Fatalities',\n",
       " 'Highly_Fatal_And_Damaging',\n",
       " 'Significant_Damage_And_Serious_Injuries',\n",
       " 'Significant_Damage_And_Serious_Injuries',\n",
       " 'Highly_Fatal_And_Damaging',\n",
       " 'Significant_Damage_And_Fatalities',\n",
       " 'Significant_Damage_And_Serious_Injuries',\n",
       " 'Minor_Damage_And_Injuries',\n",
       " 'Highly_Fatal_And_Damaging',\n",
       " 'Highly_Fatal_And_Damaging',\n",
       " 'Highly_Fatal_And_Damaging',\n",
       " 'Significant_Damage_And_Fatalities',\n",
       " 'Highly_Fatal_And_Damaging',\n",
       " 'Highly_Fatal_And_Damaging',\n",
       " 'Minor_Damage_And_Injuries',\n",
       " 'Significant_Damage_And_Fatalities',\n",
       " 'Minor_Damage_And_Injuries',\n",
       " 'Highly_Fatal_And_Damaging',\n",
       " 'Highly_Fatal_And_Damaging',\n",
       " 'Significant_Damage_And_Serious_Injuries',\n",
       " 'Highly_Fatal_And_Damaging',\n",
       " 'Minor_Damage_And_Injuries',\n",
       " 'Minor_Damage_And_Injuries',\n",
       " 'Highly_Fatal_And_Damaging',\n",
       " 'Significant_Damage_And_Fatalities',\n",
       " 'Significant_Damage_And_Fatalities',\n",
       " 'Highly_Fatal_And_Damaging',\n",
       " 'Significant_Damage_And_Serious_Injuries',\n",
       " 'Minor_Damage_And_Injuries',\n",
       " 'Significant_Damage_And_Serious_Injuries',\n",
       " 'Minor_Damage_And_Injuries',\n",
       " 'Minor_Damage_And_Injuries',\n",
       " 'Minor_Damage_And_Injuries',\n",
       " 'Significant_Damage_And_Fatalities',\n",
       " 'Highly_Fatal_And_Damaging',\n",
       " 'Significant_Damage_And_Serious_Injuries',\n",
       " 'Highly_Fatal_And_Damaging',\n",
       " 'Significant_Damage_And_Serious_Injuries',\n",
       " 'Highly_Fatal_And_Damaging',\n",
       " 'Minor_Damage_And_Injuries',\n",
       " 'Highly_Fatal_And_Damaging',\n",
       " 'Minor_Damage_And_Injuries',\n",
       " 'Highly_Fatal_And_Damaging',\n",
       " 'Minor_Damage_And_Injuries',\n",
       " 'Minor_Damage_And_Injuries',\n",
       " 'Significant_Damage_And_Serious_Injuries',\n",
       " 'Significant_Damage_And_Fatalities',\n",
       " 'Minor_Damage_And_Injuries',\n",
       " 'Significant_Damage_And_Serious_Injuries',\n",
       " 'Minor_Damage_And_Injuries',\n",
       " 'Highly_Fatal_And_Damaging',\n",
       " 'Minor_Damage_And_Injuries',\n",
       " 'Highly_Fatal_And_Damaging',\n",
       " 'Significant_Damage_And_Serious_Injuries',\n",
       " 'Significant_Damage_And_Fatalities',\n",
       " 'Highly_Fatal_And_Damaging',\n",
       " 'Highly_Fatal_And_Damaging',\n",
       " 'Significant_Damage_And_Serious_Injuries',\n",
       " 'Significant_Damage_And_Serious_Injuries',\n",
       " 'Minor_Damage_And_Injuries',\n",
       " 'Significant_Damage_And_Serious_Injuries',\n",
       " 'Highly_Fatal_And_Damaging',\n",
       " 'Minor_Damage_And_Injuries',\n",
       " 'Highly_Fatal_And_Damaging',\n",
       " 'Minor_Damage_And_Injuries',\n",
       " 'Significant_Damage_And_Fatalities',\n",
       " 'Significant_Damage_And_Serious_Injuries',\n",
       " 'Minor_Damage_And_Injuries',\n",
       " 'Highly_Fatal_And_Damaging',\n",
       " 'Significant_Damage_And_Serious_Injuries',\n",
       " 'Significant_Damage_And_Serious_Injuries',\n",
       " 'Highly_Fatal_And_Damaging',\n",
       " 'Highly_Fatal_And_Damaging',\n",
       " 'Significant_Damage_And_Serious_Injuries',\n",
       " 'Minor_Damage_And_Injuries',\n",
       " 'Significant_Damage_And_Serious_Injuries',\n",
       " 'Significant_Damage_And_Serious_Injuries',\n",
       " 'Significant_Damage_And_Serious_Injuries',\n",
       " 'Minor_Damage_And_Injuries',\n",
       " 'Significant_Damage_And_Fatalities',\n",
       " 'Significant_Damage_And_Fatalities',\n",
       " 'Minor_Damage_And_Injuries',\n",
       " 'Highly_Fatal_And_Damaging',\n",
       " 'Minor_Damage_And_Injuries',\n",
       " 'Significant_Damage_And_Serious_Injuries',\n",
       " 'Significant_Damage_And_Serious_Injuries',\n",
       " 'Significant_Damage_And_Fatalities',\n",
       " 'Significant_Damage_And_Fatalities',\n",
       " 'Minor_Damage_And_Injuries',\n",
       " 'Minor_Damage_And_Injuries',\n",
       " 'Significant_Damage_And_Fatalities',\n",
       " 'Significant_Damage_And_Serious_Injuries',\n",
       " 'Significant_Damage_And_Serious_Injuries',\n",
       " 'Significant_Damage_And_Serious_Injuries',\n",
       " 'Highly_Fatal_And_Damaging',\n",
       " 'Significant_Damage_And_Serious_Injuries',\n",
       " 'Significant_Damage_And_Serious_Injuries',\n",
       " 'Minor_Damage_And_Injuries',\n",
       " 'Significant_Damage_And_Fatalities',\n",
       " 'Highly_Fatal_And_Damaging',\n",
       " 'Significant_Damage_And_Fatalities',\n",
       " 'Minor_Damage_And_Injuries',\n",
       " 'Significant_Damage_And_Serious_Injuries',\n",
       " 'Minor_Damage_And_Injuries',\n",
       " 'Significant_Damage_And_Serious_Injuries',\n",
       " 'Highly_Fatal_And_Damaging',\n",
       " 'Highly_Fatal_And_Damaging',\n",
       " 'Minor_Damage_And_Injuries',\n",
       " 'Significant_Damage_And_Serious_Injuries',\n",
       " 'Minor_Damage_And_Injuries',\n",
       " 'Significant_Damage_And_Serious_Injuries',\n",
       " 'Minor_Damage_And_Injuries',\n",
       " 'Minor_Damage_And_Injuries',\n",
       " 'Highly_Fatal_And_Damaging',\n",
       " 'Highly_Fatal_And_Damaging',\n",
       " 'Minor_Damage_And_Injuries',\n",
       " 'Minor_Damage_And_Injuries',\n",
       " 'Highly_Fatal_And_Damaging',\n",
       " 'Highly_Fatal_And_Damaging',\n",
       " 'Minor_Damage_And_Injuries',\n",
       " 'Highly_Fatal_And_Damaging',\n",
       " 'Significant_Damage_And_Serious_Injuries',\n",
       " 'Minor_Damage_And_Injuries',\n",
       " 'Highly_Fatal_And_Damaging',\n",
       " 'Significant_Damage_And_Fatalities',\n",
       " 'Highly_Fatal_And_Damaging',\n",
       " 'Highly_Fatal_And_Damaging',\n",
       " 'Significant_Damage_And_Serious_Injuries',\n",
       " 'Significant_Damage_And_Serious_Injuries',\n",
       " 'Minor_Damage_And_Injuries',\n",
       " 'Significant_Damage_And_Fatalities',\n",
       " 'Significant_Damage_And_Fatalities',\n",
       " 'Highly_Fatal_And_Damaging',\n",
       " 'Highly_Fatal_And_Damaging',\n",
       " 'Significant_Damage_And_Fatalities',\n",
       " 'Significant_Damage_And_Serious_Injuries',\n",
       " 'Minor_Damage_And_Injuries',\n",
       " 'Minor_Damage_And_Injuries',\n",
       " 'Minor_Damage_And_Injuries',\n",
       " 'Significant_Damage_And_Serious_Injuries',\n",
       " 'Minor_Damage_And_Injuries',\n",
       " 'Minor_Damage_And_Injuries',\n",
       " 'Minor_Damage_And_Injuries',\n",
       " 'Highly_Fatal_And_Damaging',\n",
       " 'Significant_Damage_And_Fatalities',\n",
       " 'Significant_Damage_And_Serious_Injuries',\n",
       " 'Minor_Damage_And_Injuries',\n",
       " 'Highly_Fatal_And_Damaging',\n",
       " 'Highly_Fatal_And_Damaging',\n",
       " 'Highly_Fatal_And_Damaging',\n",
       " 'Minor_Damage_And_Injuries',\n",
       " 'Highly_Fatal_And_Damaging',\n",
       " 'Significant_Damage_And_Serious_Injuries',\n",
       " 'Highly_Fatal_And_Damaging',\n",
       " 'Significant_Damage_And_Serious_Injuries',\n",
       " 'Minor_Damage_And_Injuries',\n",
       " 'Minor_Damage_And_Injuries',\n",
       " 'Significant_Damage_And_Fatalities',\n",
       " 'Highly_Fatal_And_Damaging',\n",
       " 'Minor_Damage_And_Injuries',\n",
       " 'Minor_Damage_And_Injuries',\n",
       " 'Highly_Fatal_And_Damaging',\n",
       " 'Significant_Damage_And_Serious_Injuries',\n",
       " 'Significant_Damage_And_Serious_Injuries',\n",
       " 'Minor_Damage_And_Injuries',\n",
       " 'Highly_Fatal_And_Damaging',\n",
       " 'Significant_Damage_And_Serious_Injuries',\n",
       " 'Highly_Fatal_And_Damaging',\n",
       " 'Significant_Damage_And_Fatalities',\n",
       " 'Minor_Damage_And_Injuries',\n",
       " 'Highly_Fatal_And_Damaging',\n",
       " 'Significant_Damage_And_Serious_Injuries',\n",
       " 'Highly_Fatal_And_Damaging',\n",
       " 'Significant_Damage_And_Fatalities',\n",
       " 'Highly_Fatal_And_Damaging',\n",
       " 'Significant_Damage_And_Serious_Injuries',\n",
       " 'Highly_Fatal_And_Damaging',\n",
       " 'Significant_Damage_And_Fatalities',\n",
       " 'Highly_Fatal_And_Damaging',\n",
       " 'Minor_Damage_And_Injuries',\n",
       " 'Highly_Fatal_And_Damaging',\n",
       " 'Significant_Damage_And_Serious_Injuries',\n",
       " 'Highly_Fatal_And_Damaging',\n",
       " 'Significant_Damage_And_Serious_Injuries',\n",
       " 'Significant_Damage_And_Serious_Injuries',\n",
       " 'Minor_Damage_And_Injuries',\n",
       " 'Significant_Damage_And_Fatalities',\n",
       " 'Highly_Fatal_And_Damaging',\n",
       " 'Minor_Damage_And_Injuries',\n",
       " 'Significant_Damage_And_Serious_Injuries',\n",
       " 'Significant_Damage_And_Fatalities',\n",
       " 'Minor_Damage_And_Injuries',\n",
       " 'Significant_Damage_And_Serious_Injuries',\n",
       " 'Significant_Damage_And_Serious_Injuries',\n",
       " 'Minor_Damage_And_Injuries',\n",
       " 'Highly_Fatal_And_Damaging',\n",
       " 'Significant_Damage_And_Serious_Injuries',\n",
       " 'Highly_Fatal_And_Damaging',\n",
       " 'Minor_Damage_And_Injuries',\n",
       " 'Minor_Damage_And_Injuries',\n",
       " 'Significant_Damage_And_Serious_Injuries',\n",
       " 'Significant_Damage_And_Fatalities',\n",
       " 'Minor_Damage_And_Injuries',\n",
       " 'Significant_Damage_And_Serious_Injuries',\n",
       " 'Highly_Fatal_And_Damaging',\n",
       " 'Significant_Damage_And_Fatalities',\n",
       " 'Highly_Fatal_And_Damaging',\n",
       " 'Minor_Damage_And_Injuries',\n",
       " 'Minor_Damage_And_Injuries',\n",
       " 'Significant_Damage_And_Serious_Injuries',\n",
       " 'Minor_Damage_And_Injuries',\n",
       " 'Significant_Damage_And_Serious_Injuries',\n",
       " 'Minor_Damage_And_Injuries',\n",
       " 'Highly_Fatal_And_Damaging',\n",
       " 'Highly_Fatal_And_Damaging',\n",
       " 'Minor_Damage_And_Injuries',\n",
       " 'Significant_Damage_And_Fatalities',\n",
       " 'Minor_Damage_And_Injuries',\n",
       " 'Highly_Fatal_And_Damaging',\n",
       " 'Minor_Damage_And_Injuries',\n",
       " 'Minor_Damage_And_Injuries',\n",
       " 'Minor_Damage_And_Injuries',\n",
       " 'Minor_Damage_And_Injuries',\n",
       " 'Significant_Damage_And_Fatalities',\n",
       " 'Minor_Damage_And_Injuries',\n",
       " 'Minor_Damage_And_Injuries',\n",
       " 'Significant_Damage_And_Fatalities',\n",
       " 'Highly_Fatal_And_Damaging',\n",
       " 'Minor_Damage_And_Injuries',\n",
       " 'Minor_Damage_And_Injuries',\n",
       " 'Highly_Fatal_And_Damaging',\n",
       " 'Minor_Damage_And_Injuries',\n",
       " 'Highly_Fatal_And_Damaging',\n",
       " 'Significant_Damage_And_Serious_Injuries',\n",
       " 'Minor_Damage_And_Injuries',\n",
       " 'Minor_Damage_And_Injuries',\n",
       " 'Minor_Damage_And_Injuries',\n",
       " 'Highly_Fatal_And_Damaging',\n",
       " 'Significant_Damage_And_Serious_Injuries',\n",
       " 'Highly_Fatal_And_Damaging',\n",
       " 'Significant_Damage_And_Serious_Injuries',\n",
       " 'Minor_Damage_And_Injuries',\n",
       " 'Significant_Damage_And_Fatalities',\n",
       " 'Significant_Damage_And_Fatalities',\n",
       " 'Significant_Damage_And_Serious_Injuries',\n",
       " 'Highly_Fatal_And_Damaging',\n",
       " 'Significant_Damage_And_Serious_Injuries',\n",
       " 'Significant_Damage_And_Serious_Injuries',\n",
       " 'Highly_Fatal_And_Damaging',\n",
       " 'Highly_Fatal_And_Damaging',\n",
       " 'Highly_Fatal_And_Damaging',\n",
       " 'Minor_Damage_And_Injuries',\n",
       " 'Highly_Fatal_And_Damaging',\n",
       " 'Highly_Fatal_And_Damaging',\n",
       " 'Significant_Damage_And_Fatalities',\n",
       " 'Highly_Fatal_And_Damaging',\n",
       " 'Minor_Damage_And_Injuries',\n",
       " 'Significant_Damage_And_Serious_Injuries',\n",
       " 'Minor_Damage_And_Injuries',\n",
       " 'Highly_Fatal_And_Damaging',\n",
       " 'Highly_Fatal_And_Damaging',\n",
       " 'Highly_Fatal_And_Damaging',\n",
       " 'Highly_Fatal_And_Damaging',\n",
       " 'Significant_Damage_And_Serious_Injuries',\n",
       " 'Minor_Damage_And_Injuries',\n",
       " 'Significant_Damage_And_Fatalities',\n",
       " 'Significant_Damage_And_Fatalities',\n",
       " 'Significant_Damage_And_Fatalities',\n",
       " 'Significant_Damage_And_Serious_Injuries',\n",
       " 'Highly_Fatal_And_Damaging',\n",
       " 'Highly_Fatal_And_Damaging',\n",
       " 'Significant_Damage_And_Serious_Injuries',\n",
       " 'Significant_Damage_And_Serious_Injuries',\n",
       " 'Minor_Damage_And_Injuries',\n",
       " 'Highly_Fatal_And_Damaging',\n",
       " 'Significant_Damage_And_Fatalities',\n",
       " 'Significant_Damage_And_Fatalities',\n",
       " 'Minor_Damage_And_Injuries',\n",
       " 'Minor_Damage_And_Injuries',\n",
       " 'Minor_Damage_And_Injuries',\n",
       " 'Highly_Fatal_And_Damaging',\n",
       " 'Significant_Damage_And_Serious_Injuries',\n",
       " 'Highly_Fatal_And_Damaging',\n",
       " 'Highly_Fatal_And_Damaging',\n",
       " 'Minor_Damage_And_Injuries',\n",
       " 'Minor_Damage_And_Injuries',\n",
       " 'Significant_Damage_And_Serious_Injuries',\n",
       " 'Significant_Damage_And_Serious_Injuries',\n",
       " 'Highly_Fatal_And_Damaging',\n",
       " 'Significant_Damage_And_Serious_Injuries',\n",
       " 'Highly_Fatal_And_Damaging',\n",
       " 'Minor_Damage_And_Injuries',\n",
       " 'Minor_Damage_And_Injuries',\n",
       " 'Significant_Damage_And_Serious_Injuries',\n",
       " 'Minor_Damage_And_Injuries',\n",
       " 'Highly_Fatal_And_Damaging',\n",
       " 'Highly_Fatal_And_Damaging',\n",
       " 'Minor_Damage_And_Injuries',\n",
       " 'Significant_Damage_And_Fatalities',\n",
       " 'Significant_Damage_And_Fatalities',\n",
       " 'Significant_Damage_And_Serious_Injuries',\n",
       " 'Significant_Damage_And_Fatalities',\n",
       " 'Minor_Damage_And_Injuries',\n",
       " 'Significant_Damage_And_Fatalities',\n",
       " 'Significant_Damage_And_Fatalities',\n",
       " 'Minor_Damage_And_Injuries',\n",
       " 'Significant_Damage_And_Serious_Injuries',\n",
       " 'Significant_Damage_And_Serious_Injuries',\n",
       " 'Minor_Damage_And_Injuries',\n",
       " 'Significant_Damage_And_Fatalities',\n",
       " 'Significant_Damage_And_Fatalities',\n",
       " 'Significant_Damage_And_Serious_Injuries',\n",
       " 'Minor_Damage_And_Injuries',\n",
       " 'Highly_Fatal_And_Damaging',\n",
       " 'Significant_Damage_And_Fatalities',\n",
       " 'Highly_Fatal_And_Damaging',\n",
       " 'Significant_Damage_And_Serious_Injuries',\n",
       " 'Minor_Damage_And_Injuries',\n",
       " 'Highly_Fatal_And_Damaging',\n",
       " 'Significant_Damage_And_Fatalities',\n",
       " 'Minor_Damage_And_Injuries',\n",
       " 'Minor_Damage_And_Injuries',\n",
       " 'Highly_Fatal_And_Damaging',\n",
       " 'Highly_Fatal_And_Damaging',\n",
       " 'Significant_Damage_And_Fatalities',\n",
       " 'Significant_Damage_And_Serious_Injuries',\n",
       " 'Minor_Damage_And_Injuries',\n",
       " 'Highly_Fatal_And_Damaging',\n",
       " 'Minor_Damage_And_Injuries',\n",
       " 'Minor_Damage_And_Injuries',\n",
       " 'Minor_Damage_And_Injuries',\n",
       " 'Highly_Fatal_And_Damaging',\n",
       " 'Highly_Fatal_And_Damaging',\n",
       " 'Significant_Damage_And_Fatalities',\n",
       " 'Significant_Damage_And_Fatalities',\n",
       " 'Highly_Fatal_And_Damaging',\n",
       " 'Minor_Damage_And_Injuries',\n",
       " 'Significant_Damage_And_Serious_Injuries',\n",
       " 'Highly_Fatal_And_Damaging',\n",
       " 'Highly_Fatal_And_Damaging',\n",
       " 'Minor_Damage_And_Injuries',\n",
       " 'Significant_Damage_And_Serious_Injuries',\n",
       " 'Minor_Damage_And_Injuries',\n",
       " 'Significant_Damage_And_Serious_Injuries',\n",
       " 'Significant_Damage_And_Fatalities',\n",
       " 'Minor_Damage_And_Injuries',\n",
       " 'Significant_Damage_And_Serious_Injuries',\n",
       " 'Minor_Damage_And_Injuries',\n",
       " 'Significant_Damage_And_Serious_Injuries',\n",
       " 'Minor_Damage_And_Injuries',\n",
       " 'Minor_Damage_And_Injuries',\n",
       " 'Highly_Fatal_And_Damaging',\n",
       " 'Highly_Fatal_And_Damaging',\n",
       " 'Significant_Damage_And_Serious_Injuries',\n",
       " 'Minor_Damage_And_Injuries',\n",
       " 'Highly_Fatal_And_Damaging',\n",
       " 'Significant_Damage_And_Serious_Injuries',\n",
       " 'Significant_Damage_And_Fatalities',\n",
       " 'Highly_Fatal_And_Damaging',\n",
       " 'Highly_Fatal_And_Damaging',\n",
       " 'Significant_Damage_And_Serious_Injuries',\n",
       " 'Minor_Damage_And_Injuries',\n",
       " 'Significant_Damage_And_Fatalities',\n",
       " 'Significant_Damage_And_Serious_Injuries',\n",
       " 'Minor_Damage_And_Injuries',\n",
       " 'Significant_Damage_And_Fatalities',\n",
       " 'Minor_Damage_And_Injuries',\n",
       " 'Highly_Fatal_And_Damaging',\n",
       " 'Highly_Fatal_And_Damaging',\n",
       " 'Minor_Damage_And_Injuries',\n",
       " 'Significant_Damage_And_Fatalities',\n",
       " 'Significant_Damage_And_Serious_Injuries',\n",
       " 'Highly_Fatal_And_Damaging',\n",
       " 'Significant_Damage_And_Serious_Injuries',\n",
       " 'Significant_Damage_And_Serious_Injuries',\n",
       " 'Significant_Damage_And_Fatalities',\n",
       " 'Significant_Damage_And_Fatalities',\n",
       " 'Significant_Damage_And_Serious_Injuries',\n",
       " 'Significant_Damage_And_Fatalities',\n",
       " 'Significant_Damage_And_Serious_Injuries',\n",
       " 'Highly_Fatal_And_Damaging',\n",
       " 'Highly_Fatal_And_Damaging',\n",
       " 'Significant_Damage_And_Serious_Injuries',\n",
       " 'Minor_Damage_And_Injuries',\n",
       " 'Minor_Damage_And_Injuries',\n",
       " 'Highly_Fatal_And_Damaging',\n",
       " 'Significant_Damage_And_Fatalities',\n",
       " 'Minor_Damage_And_Injuries',\n",
       " 'Highly_Fatal_And_Damaging',\n",
       " 'Significant_Damage_And_Serious_Injuries',\n",
       " 'Highly_Fatal_And_Damaging',\n",
       " 'Significant_Damage_And_Serious_Injuries',\n",
       " 'Minor_Damage_And_Injuries',\n",
       " 'Minor_Damage_And_Injuries',\n",
       " 'Highly_Fatal_And_Damaging',\n",
       " 'Highly_Fatal_And_Damaging',\n",
       " 'Highly_Fatal_And_Damaging',\n",
       " 'Significant_Damage_And_Serious_Injuries',\n",
       " 'Minor_Damage_And_Injuries',\n",
       " 'Significant_Damage_And_Serious_Injuries',\n",
       " 'Significant_Damage_And_Fatalities',\n",
       " 'Significant_Damage_And_Fatalities',\n",
       " 'Minor_Damage_And_Injuries',\n",
       " 'Significant_Damage_And_Fatalities',\n",
       " 'Highly_Fatal_And_Damaging',\n",
       " 'Highly_Fatal_And_Damaging',\n",
       " 'Highly_Fatal_And_Damaging',\n",
       " 'Significant_Damage_And_Serious_Injuries',\n",
       " 'Significant_Damage_And_Serious_Injuries',\n",
       " 'Significant_Damage_And_Serious_Injuries',\n",
       " 'Significant_Damage_And_Serious_Injuries',\n",
       " 'Significant_Damage_And_Serious_Injuries',\n",
       " 'Highly_Fatal_And_Damaging',\n",
       " 'Significant_Damage_And_Fatalities',\n",
       " 'Highly_Fatal_And_Damaging',\n",
       " 'Minor_Damage_And_Injuries',\n",
       " 'Highly_Fatal_And_Damaging',\n",
       " 'Significant_Damage_And_Fatalities',\n",
       " 'Significant_Damage_And_Serious_Injuries',\n",
       " 'Significant_Damage_And_Fatalities',\n",
       " 'Minor_Damage_And_Injuries',\n",
       " 'Significant_Damage_And_Fatalities',\n",
       " 'Highly_Fatal_And_Damaging',\n",
       " 'Significant_Damage_And_Serious_Injuries',\n",
       " 'Significant_Damage_And_Serious_Injuries',\n",
       " 'Significant_Damage_And_Serious_Injuries',\n",
       " 'Highly_Fatal_And_Damaging',\n",
       " 'Highly_Fatal_And_Damaging',\n",
       " 'Significant_Damage_And_Fatalities',\n",
       " 'Significant_Damage_And_Serious_Injuries',\n",
       " 'Highly_Fatal_And_Damaging',\n",
       " 'Highly_Fatal_And_Damaging',\n",
       " 'Highly_Fatal_And_Damaging',\n",
       " 'Significant_Damage_And_Serious_Injuries',\n",
       " 'Highly_Fatal_And_Damaging',\n",
       " 'Significant_Damage_And_Fatalities',\n",
       " 'Significant_Damage_And_Serious_Injuries',\n",
       " 'Significant_Damage_And_Serious_Injuries',\n",
       " 'Significant_Damage_And_Serious_Injuries',\n",
       " 'Highly_Fatal_And_Damaging',\n",
       " 'Significant_Damage_And_Serious_Injuries',\n",
       " 'Significant_Damage_And_Serious_Injuries',\n",
       " 'Significant_Damage_And_Fatalities',\n",
       " 'Highly_Fatal_And_Damaging',\n",
       " 'Highly_Fatal_And_Damaging',\n",
       " 'Highly_Fatal_And_Damaging',\n",
       " 'Significant_Damage_And_Serious_Injuries',\n",
       " 'Minor_Damage_And_Injuries',\n",
       " 'Significant_Damage_And_Serious_Injuries',\n",
       " 'Minor_Damage_And_Injuries',\n",
       " 'Highly_Fatal_And_Damaging',\n",
       " 'Minor_Damage_And_Injuries',\n",
       " 'Minor_Damage_And_Injuries',\n",
       " 'Minor_Damage_And_Injuries',\n",
       " 'Minor_Damage_And_Injuries',\n",
       " 'Minor_Damage_And_Injuries',\n",
       " 'Highly_Fatal_And_Damaging',\n",
       " 'Significant_Damage_And_Fatalities',\n",
       " 'Significant_Damage_And_Fatalities',\n",
       " 'Highly_Fatal_And_Damaging',\n",
       " 'Significant_Damage_And_Serious_Injuries',\n",
       " 'Significant_Damage_And_Fatalities',\n",
       " 'Minor_Damage_And_Injuries',\n",
       " 'Highly_Fatal_And_Damaging',\n",
       " 'Significant_Damage_And_Fatalities',\n",
       " 'Minor_Damage_And_Injuries',\n",
       " 'Minor_Damage_And_Injuries',\n",
       " 'Minor_Damage_And_Injuries',\n",
       " 'Minor_Damage_And_Injuries',\n",
       " 'Minor_Damage_And_Injuries',\n",
       " 'Minor_Damage_And_Injuries',\n",
       " 'Minor_Damage_And_Injuries',\n",
       " 'Significant_Damage_And_Serious_Injuries',\n",
       " 'Minor_Damage_And_Injuries',\n",
       " 'Highly_Fatal_And_Damaging',\n",
       " 'Minor_Damage_And_Injuries',\n",
       " 'Significant_Damage_And_Fatalities',\n",
       " 'Highly_Fatal_And_Damaging',\n",
       " 'Highly_Fatal_And_Damaging',\n",
       " 'Significant_Damage_And_Serious_Injuries',\n",
       " 'Highly_Fatal_And_Damaging',\n",
       " 'Significant_Damage_And_Fatalities',\n",
       " 'Significant_Damage_And_Fatalities',\n",
       " 'Minor_Damage_And_Injuries',\n",
       " 'Highly_Fatal_And_Damaging',\n",
       " 'Significant_Damage_And_Serious_Injuries',\n",
       " 'Minor_Damage_And_Injuries',\n",
       " 'Minor_Damage_And_Injuries',\n",
       " 'Significant_Damage_And_Serious_Injuries',\n",
       " 'Highly_Fatal_And_Damaging',\n",
       " 'Highly_Fatal_And_Damaging',\n",
       " 'Significant_Damage_And_Fatalities',\n",
       " 'Significant_Damage_And_Fatalities',\n",
       " 'Minor_Damage_And_Injuries',\n",
       " 'Significant_Damage_And_Serious_Injuries',\n",
       " 'Highly_Fatal_And_Damaging',\n",
       " 'Highly_Fatal_And_Damaging',\n",
       " 'Significant_Damage_And_Serious_Injuries',\n",
       " 'Minor_Damage_And_Injuries',\n",
       " 'Significant_Damage_And_Serious_Injuries',\n",
       " 'Highly_Fatal_And_Damaging',\n",
       " 'Minor_Damage_And_Injuries',\n",
       " 'Highly_Fatal_And_Damaging',\n",
       " 'Significant_Damage_And_Serious_Injuries',\n",
       " 'Significant_Damage_And_Fatalities',\n",
       " 'Highly_Fatal_And_Damaging',\n",
       " 'Significant_Damage_And_Fatalities',\n",
       " 'Significant_Damage_And_Serious_Injuries',\n",
       " 'Significant_Damage_And_Fatalities',\n",
       " 'Significant_Damage_And_Fatalities',\n",
       " 'Highly_Fatal_And_Damaging',\n",
       " 'Significant_Damage_And_Fatalities',\n",
       " 'Significant_Damage_And_Serious_Injuries',\n",
       " 'Minor_Damage_And_Injuries',\n",
       " 'Significant_Damage_And_Fatalities',\n",
       " 'Significant_Damage_And_Serious_Injuries',\n",
       " 'Highly_Fatal_And_Damaging',\n",
       " 'Highly_Fatal_And_Damaging',\n",
       " 'Minor_Damage_And_Injuries',\n",
       " 'Minor_Damage_And_Injuries',\n",
       " 'Significant_Damage_And_Serious_Injuries',\n",
       " 'Highly_Fatal_And_Damaging',\n",
       " 'Highly_Fatal_And_Damaging',\n",
       " 'Highly_Fatal_And_Damaging',\n",
       " 'Significant_Damage_And_Serious_Injuries',\n",
       " 'Highly_Fatal_And_Damaging',\n",
       " 'Highly_Fatal_And_Damaging',\n",
       " 'Highly_Fatal_And_Damaging',\n",
       " 'Significant_Damage_And_Serious_Injuries',\n",
       " 'Minor_Damage_And_Injuries',\n",
       " 'Significant_Damage_And_Serious_Injuries',\n",
       " 'Minor_Damage_And_Injuries',\n",
       " 'Significant_Damage_And_Serious_Injuries',\n",
       " 'Minor_Damage_And_Injuries',\n",
       " 'Minor_Damage_And_Injuries',\n",
       " 'Minor_Damage_And_Injuries',\n",
       " 'Highly_Fatal_And_Damaging',\n",
       " 'Significant_Damage_And_Fatalities',\n",
       " 'Significant_Damage_And_Serious_Injuries',\n",
       " 'Significant_Damage_And_Serious_Injuries',\n",
       " 'Significant_Damage_And_Serious_Injuries',\n",
       " 'Significant_Damage_And_Serious_Injuries',\n",
       " 'Minor_Damage_And_Injuries',\n",
       " 'Significant_Damage_And_Serious_Injuries',\n",
       " 'Highly_Fatal_And_Damaging',\n",
       " 'Significant_Damage_And_Serious_Injuries',\n",
       " 'Significant_Damage_And_Serious_Injuries',\n",
       " 'Significant_Damage_And_Serious_Injuries',\n",
       " 'Highly_Fatal_And_Damaging',\n",
       " 'Significant_Damage_And_Fatalities',\n",
       " 'Minor_Damage_And_Injuries',\n",
       " 'Minor_Damage_And_Injuries',\n",
       " 'Highly_Fatal_And_Damaging',\n",
       " 'Significant_Damage_And_Serious_Injuries',\n",
       " 'Minor_Damage_And_Injuries',\n",
       " 'Highly_Fatal_And_Damaging',\n",
       " 'Significant_Damage_And_Serious_Injuries',\n",
       " 'Highly_Fatal_And_Damaging',\n",
       " 'Significant_Damage_And_Serious_Injuries',\n",
       " 'Significant_Damage_And_Fatalities',\n",
       " 'Highly_Fatal_And_Damaging',\n",
       " 'Highly_Fatal_And_Damaging',\n",
       " 'Minor_Damage_And_Injuries',\n",
       " 'Minor_Damage_And_Injuries',\n",
       " 'Significant_Damage_And_Fatalities',\n",
       " 'Highly_Fatal_And_Damaging',\n",
       " 'Minor_Damage_And_Injuries',\n",
       " 'Significant_Damage_And_Serious_Injuries',\n",
       " 'Significant_Damage_And_Serious_Injuries',\n",
       " 'Significant_Damage_And_Fatalities',\n",
       " 'Minor_Damage_And_Injuries',\n",
       " 'Highly_Fatal_And_Damaging',\n",
       " 'Minor_Damage_And_Injuries',\n",
       " 'Minor_Damage_And_Injuries',\n",
       " 'Significant_Damage_And_Fatalities',\n",
       " 'Highly_Fatal_And_Damaging',\n",
       " 'Minor_Damage_And_Injuries',\n",
       " 'Significant_Damage_And_Fatalities',\n",
       " 'Minor_Damage_And_Injuries',\n",
       " 'Minor_Damage_And_Injuries',\n",
       " 'Significant_Damage_And_Fatalities',\n",
       " 'Significant_Damage_And_Fatalities',\n",
       " 'Significant_Damage_And_Serious_Injuries',\n",
       " 'Minor_Damage_And_Injuries',\n",
       " 'Highly_Fatal_And_Damaging',\n",
       " 'Highly_Fatal_And_Damaging',\n",
       " 'Significant_Damage_And_Fatalities',\n",
       " 'Highly_Fatal_And_Damaging',\n",
       " 'Significant_Damage_And_Serious_Injuries',\n",
       " 'Minor_Damage_And_Injuries',\n",
       " 'Minor_Damage_And_Injuries',\n",
       " 'Significant_Damage_And_Fatalities',\n",
       " 'Highly_Fatal_And_Damaging',\n",
       " 'Minor_Damage_And_Injuries',\n",
       " 'Significant_Damage_And_Fatalities',\n",
       " 'Highly_Fatal_And_Damaging',\n",
       " 'Highly_Fatal_And_Damaging',\n",
       " 'Minor_Damage_And_Injuries',\n",
       " 'Minor_Damage_And_Injuries',\n",
       " 'Minor_Damage_And_Injuries',\n",
       " 'Significant_Damage_And_Serious_Injuries',\n",
       " 'Minor_Damage_And_Injuries',\n",
       " 'Highly_Fatal_And_Damaging',\n",
       " 'Highly_Fatal_And_Damaging',\n",
       " 'Significant_Damage_And_Serious_Injuries',\n",
       " 'Significant_Damage_And_Fatalities',\n",
       " 'Highly_Fatal_And_Damaging',\n",
       " 'Significant_Damage_And_Fatalities',\n",
       " 'Significant_Damage_And_Serious_Injuries',\n",
       " 'Significant_Damage_And_Fatalities',\n",
       " 'Significant_Damage_And_Serious_Injuries',\n",
       " 'Significant_Damage_And_Serious_Injuries',\n",
       " 'Significant_Damage_And_Fatalities',\n",
       " 'Significant_Damage_And_Serious_Injuries',\n",
       " 'Minor_Damage_And_Injuries',\n",
       " 'Minor_Damage_And_Injuries',\n",
       " 'Significant_Damage_And_Fatalities',\n",
       " 'Highly_Fatal_And_Damaging',\n",
       " 'Significant_Damage_And_Serious_Injuries',\n",
       " 'Minor_Damage_And_Injuries',\n",
       " 'Minor_Damage_And_Injuries',\n",
       " 'Minor_Damage_And_Injuries',\n",
       " 'Minor_Damage_And_Injuries',\n",
       " 'Minor_Damage_And_Injuries',\n",
       " 'Highly_Fatal_And_Damaging',\n",
       " 'Significant_Damage_And_Fatalities',\n",
       " 'Minor_Damage_And_Injuries',\n",
       " 'Minor_Damage_And_Injuries',\n",
       " 'Significant_Damage_And_Serious_Injuries',\n",
       " 'Significant_Damage_And_Serious_Injuries',\n",
       " 'Significant_Damage_And_Fatalities',\n",
       " 'Minor_Damage_And_Injuries',\n",
       " 'Significant_Damage_And_Fatalities',\n",
       " 'Significant_Damage_And_Serious_Injuries',\n",
       " 'Significant_Damage_And_Fatalities',\n",
       " 'Minor_Damage_And_Injuries',\n",
       " 'Highly_Fatal_And_Damaging',\n",
       " 'Significant_Damage_And_Serious_Injuries',\n",
       " 'Highly_Fatal_And_Damaging',\n",
       " 'Significant_Damage_And_Fatalities',\n",
       " 'Significant_Damage_And_Serious_Injuries',\n",
       " 'Highly_Fatal_And_Damaging',\n",
       " 'Significant_Damage_And_Fatalities',\n",
       " 'Significant_Damage_And_Serious_Injuries',\n",
       " 'Significant_Damage_And_Fatalities',\n",
       " 'Significant_Damage_And_Serious_Injuries',\n",
       " 'Significant_Damage_And_Serious_Injuries',\n",
       " 'Significant_Damage_And_Serious_Injuries',\n",
       " 'Highly_Fatal_And_Damaging',\n",
       " 'Minor_Damage_And_Injuries',\n",
       " 'Minor_Damage_And_Injuries',\n",
       " 'Significant_Damage_And_Serious_Injuries',\n",
       " 'Minor_Damage_And_Injuries',\n",
       " 'Minor_Damage_And_Injuries',\n",
       " 'Significant_Damage_And_Serious_Injuries',\n",
       " 'Significant_Damage_And_Serious_Injuries',\n",
       " 'Minor_Damage_And_Injuries',\n",
       " 'Significant_Damage_And_Fatalities',\n",
       " 'Significant_Damage_And_Fatalities',\n",
       " 'Highly_Fatal_And_Damaging',\n",
       " 'Highly_Fatal_And_Damaging',\n",
       " 'Highly_Fatal_And_Damaging',\n",
       " 'Minor_Damage_And_Injuries',\n",
       " 'Significant_Damage_And_Fatalities',\n",
       " 'Minor_Damage_And_Injuries',\n",
       " 'Significant_Damage_And_Fatalities',\n",
       " 'Significant_Damage_And_Serious_Injuries',\n",
       " 'Significant_Damage_And_Serious_Injuries',\n",
       " 'Minor_Damage_And_Injuries',\n",
       " 'Significant_Damage_And_Fatalities',\n",
       " 'Highly_Fatal_And_Damaging',\n",
       " 'Minor_Damage_And_Injuries',\n",
       " 'Minor_Damage_And_Injuries',\n",
       " 'Significant_Damage_And_Serious_Injuries',\n",
       " 'Significant_Damage_And_Fatalities',\n",
       " 'Significant_Damage_And_Fatalities',\n",
       " 'Significant_Damage_And_Fatalities',\n",
       " 'Minor_Damage_And_Injuries',\n",
       " 'Minor_Damage_And_Injuries',\n",
       " 'Significant_Damage_And_Serious_Injuries',\n",
       " 'Significant_Damage_And_Fatalities',\n",
       " 'Significant_Damage_And_Serious_Injuries',\n",
       " 'Highly_Fatal_And_Damaging',\n",
       " 'Highly_Fatal_And_Damaging',\n",
       " 'Highly_Fatal_And_Damaging',\n",
       " 'Significant_Damage_And_Serious_Injuries',\n",
       " 'Highly_Fatal_And_Damaging',\n",
       " 'Significant_Damage_And_Serious_Injuries',\n",
       " 'Highly_Fatal_And_Damaging',\n",
       " 'Highly_Fatal_And_Damaging',\n",
       " 'Minor_Damage_And_Injuries',\n",
       " 'Highly_Fatal_And_Damaging',\n",
       " 'Significant_Damage_And_Fatalities',\n",
       " 'Significant_Damage_And_Fatalities',\n",
       " 'Highly_Fatal_And_Damaging',\n",
       " 'Significant_Damage_And_Serious_Injuries',\n",
       " 'Minor_Damage_And_Injuries',\n",
       " 'Significant_Damage_And_Serious_Injuries',\n",
       " 'Significant_Damage_And_Serious_Injuries',\n",
       " 'Significant_Damage_And_Fatalities',\n",
       " 'Significant_Damage_And_Serious_Injuries',\n",
       " 'Significant_Damage_And_Serious_Injuries',\n",
       " 'Minor_Damage_And_Injuries',\n",
       " 'Highly_Fatal_And_Damaging',\n",
       " 'Minor_Damage_And_Injuries',\n",
       " 'Highly_Fatal_And_Damaging',\n",
       " 'Highly_Fatal_And_Damaging',\n",
       " 'Highly_Fatal_And_Damaging',\n",
       " 'Significant_Damage_And_Fatalities',\n",
       " 'Minor_Damage_And_Injuries',\n",
       " 'Significant_Damage_And_Serious_Injuries',\n",
       " 'Significant_Damage_And_Serious_Injuries',\n",
       " 'Highly_Fatal_And_Damaging',\n",
       " 'Highly_Fatal_And_Damaging',\n",
       " 'Highly_Fatal_And_Damaging',\n",
       " 'Significant_Damage_And_Serious_Injuries',\n",
       " 'Minor_Damage_And_Injuries',\n",
       " 'Minor_Damage_And_Injuries',\n",
       " 'Minor_Damage_And_Injuries',\n",
       " 'Minor_Damage_And_Injuries',\n",
       " 'Minor_Damage_And_Injuries',\n",
       " 'Highly_Fatal_And_Damaging',\n",
       " 'Highly_Fatal_And_Damaging',\n",
       " 'Minor_Damage_And_Injuries',\n",
       " 'Significant_Damage_And_Serious_Injuries',\n",
       " 'Significant_Damage_And_Serious_Injuries',\n",
       " 'Significant_Damage_And_Serious_Injuries',\n",
       " 'Significant_Damage_And_Fatalities',\n",
       " 'Highly_Fatal_And_Damaging',\n",
       " 'Significant_Damage_And_Fatalities',\n",
       " 'Significant_Damage_And_Serious_Injuries',\n",
       " 'Significant_Damage_And_Serious_Injuries',\n",
       " 'Highly_Fatal_And_Damaging',\n",
       " 'Significant_Damage_And_Serious_Injuries',\n",
       " 'Minor_Damage_And_Injuries',\n",
       " 'Highly_Fatal_And_Damaging',\n",
       " 'Highly_Fatal_And_Damaging',\n",
       " 'Significant_Damage_And_Fatalities',\n",
       " 'Highly_Fatal_And_Damaging',\n",
       " 'Minor_Damage_And_Injuries',\n",
       " 'Significant_Damage_And_Serious_Injuries',\n",
       " 'Significant_Damage_And_Serious_Injuries',\n",
       " 'Significant_Damage_And_Fatalities',\n",
       " 'Significant_Damage_And_Fatalities',\n",
       " 'Minor_Damage_And_Injuries',\n",
       " 'Highly_Fatal_And_Damaging',\n",
       " 'Minor_Damage_And_Injuries',\n",
       " 'Significant_Damage_And_Serious_Injuries',\n",
       " 'Minor_Damage_And_Injuries',\n",
       " 'Minor_Damage_And_Injuries',\n",
       " 'Minor_Damage_And_Injuries',\n",
       " 'Highly_Fatal_And_Damaging',\n",
       " 'Highly_Fatal_And_Damaging',\n",
       " 'Significant_Damage_And_Serious_Injuries',\n",
       " 'Significant_Damage_And_Serious_Injuries',\n",
       " 'Highly_Fatal_And_Damaging',\n",
       " 'Highly_Fatal_And_Damaging',\n",
       " 'Highly_Fatal_And_Damaging',\n",
       " 'Highly_Fatal_And_Damaging',\n",
       " 'Highly_Fatal_And_Damaging',\n",
       " 'Significant_Damage_And_Serious_Injuries',\n",
       " 'Highly_Fatal_And_Damaging',\n",
       " 'Highly_Fatal_And_Damaging',\n",
       " 'Highly_Fatal_And_Damaging',\n",
       " 'Highly_Fatal_And_Damaging',\n",
       " 'Highly_Fatal_And_Damaging',\n",
       " 'Minor_Damage_And_Injuries',\n",
       " 'Highly_Fatal_And_Damaging',\n",
       " 'Highly_Fatal_And_Damaging',\n",
       " 'Minor_Damage_And_Injuries',\n",
       " 'Significant_Damage_And_Serious_Injuries',\n",
       " 'Highly_Fatal_And_Damaging',\n",
       " 'Highly_Fatal_And_Damaging',\n",
       " 'Significant_Damage_And_Serious_Injuries',\n",
       " 'Minor_Damage_And_Injuries',\n",
       " 'Significant_Damage_And_Serious_Injuries',\n",
       " 'Minor_Damage_And_Injuries',\n",
       " 'Significant_Damage_And_Serious_Injuries',\n",
       " 'Highly_Fatal_And_Damaging',\n",
       " 'Minor_Damage_And_Injuries',\n",
       " 'Minor_Damage_And_Injuries',\n",
       " 'Highly_Fatal_And_Damaging',\n",
       " 'Minor_Damage_And_Injuries',\n",
       " 'Significant_Damage_And_Serious_Injuries',\n",
       " 'Significant_Damage_And_Serious_Injuries',\n",
       " 'Significant_Damage_And_Serious_Injuries',\n",
       " 'Highly_Fatal_And_Damaging',\n",
       " 'Highly_Fatal_And_Damaging',\n",
       " 'Highly_Fatal_And_Damaging',\n",
       " 'Highly_Fatal_And_Damaging',\n",
       " 'Highly_Fatal_And_Damaging',\n",
       " 'Highly_Fatal_And_Damaging',\n",
       " 'Minor_Damage_And_Injuries',\n",
       " 'Significant_Damage_And_Serious_Injuries',\n",
       " 'Highly_Fatal_And_Damaging',\n",
       " 'Highly_Fatal_And_Damaging',\n",
       " 'Highly_Fatal_And_Damaging',\n",
       " 'Highly_Fatal_And_Damaging',\n",
       " 'Significant_Damage_And_Serious_Injuries',\n",
       " 'Significant_Damage_And_Fatalities',\n",
       " 'Significant_Damage_And_Fatalities',\n",
       " 'Significant_Damage_And_Fatalities',\n",
       " 'Significant_Damage_And_Fatalities',\n",
       " 'Significant_Damage_And_Serious_Injuries',\n",
       " 'Highly_Fatal_And_Damaging',\n",
       " 'Minor_Damage_And_Injuries',\n",
       " 'Highly_Fatal_And_Damaging',\n",
       " 'Minor_Damage_And_Injuries',\n",
       " 'Significant_Damage_And_Serious_Injuries',\n",
       " 'Highly_Fatal_And_Damaging',\n",
       " 'Significant_Damage_And_Serious_Injuries',\n",
       " 'Highly_Fatal_And_Damaging',\n",
       " 'Minor_Damage_And_Injuries',\n",
       " 'Significant_Damage_And_Fatalities',\n",
       " 'Minor_Damage_And_Injuries',\n",
       " 'Highly_Fatal_And_Damaging',\n",
       " 'Highly_Fatal_And_Damaging',\n",
       " 'Highly_Fatal_And_Damaging',\n",
       " 'Highly_Fatal_And_Damaging',\n",
       " 'Minor_Damage_And_Injuries',\n",
       " 'Highly_Fatal_And_Damaging',\n",
       " 'Significant_Damage_And_Serious_Injuries',\n",
       " 'Significant_Damage_And_Fatalities',\n",
       " 'Significant_Damage_And_Serious_Injuries',\n",
       " 'Significant_Damage_And_Serious_Injuries',\n",
       " 'Significant_Damage_And_Serious_Injuries',\n",
       " 'Minor_Damage_And_Injuries',\n",
       " 'Highly_Fatal_And_Damaging',\n",
       " 'Minor_Damage_And_Injuries',\n",
       " 'Significant_Damage_And_Fatalities',\n",
       " 'Minor_Damage_And_Injuries',\n",
       " 'Highly_Fatal_And_Damaging',\n",
       " 'Significant_Damage_And_Serious_Injuries',\n",
       " 'Highly_Fatal_And_Damaging',\n",
       " 'Significant_Damage_And_Fatalities',\n",
       " 'Minor_Damage_And_Injuries',\n",
       " 'Highly_Fatal_And_Damaging',\n",
       " 'Highly_Fatal_And_Damaging',\n",
       " 'Significant_Damage_And_Fatalities',\n",
       " 'Minor_Damage_And_Injuries',\n",
       " 'Significant_Damage_And_Fatalities',\n",
       " 'Minor_Damage_And_Injuries',\n",
       " 'Significant_Damage_And_Fatalities',\n",
       " 'Minor_Damage_And_Injuries',\n",
       " 'Significant_Damage_And_Serious_Injuries',\n",
       " 'Minor_Damage_And_Injuries',\n",
       " 'Significant_Damage_And_Serious_Injuries',\n",
       " 'Minor_Damage_And_Injuries',\n",
       " 'Highly_Fatal_And_Damaging',\n",
       " 'Minor_Damage_And_Injuries',\n",
       " 'Minor_Damage_And_Injuries',\n",
       " 'Significant_Damage_And_Serious_Injuries',\n",
       " 'Significant_Damage_And_Serious_Injuries',\n",
       " 'Significant_Damage_And_Serious_Injuries',\n",
       " 'Highly_Fatal_And_Damaging',\n",
       " 'Minor_Damage_And_Injuries',\n",
       " 'Significant_Damage_And_Serious_Injuries',\n",
       " 'Significant_Damage_And_Fatalities',\n",
       " 'Significant_Damage_And_Serious_Injuries',\n",
       " 'Minor_Damage_And_Injuries',\n",
       " 'Significant_Damage_And_Fatalities',\n",
       " 'Significant_Damage_And_Serious_Injuries',\n",
       " 'Significant_Damage_And_Serious_Injuries',\n",
       " 'Highly_Fatal_And_Damaging',\n",
       " 'Highly_Fatal_And_Damaging',\n",
       " 'Minor_Damage_And_Injuries',\n",
       " 'Minor_Damage_And_Injuries',\n",
       " 'Highly_Fatal_And_Damaging',\n",
       " 'Significant_Damage_And_Serious_Injuries',\n",
       " 'Highly_Fatal_And_Damaging',\n",
       " 'Minor_Damage_And_Injuries',\n",
       " 'Minor_Damage_And_Injuries',\n",
       " 'Minor_Damage_And_Injuries',\n",
       " 'Minor_Damage_And_Injuries',\n",
       " 'Significant_Damage_And_Serious_Injuries',\n",
       " 'Significant_Damage_And_Fatalities',\n",
       " 'Minor_Damage_And_Injuries',\n",
       " 'Significant_Damage_And_Serious_Injuries',\n",
       " 'Highly_Fatal_And_Damaging',\n",
       " 'Minor_Damage_And_Injuries',\n",
       " 'Significant_Damage_And_Fatalities',\n",
       " 'Highly_Fatal_And_Damaging',\n",
       " 'Significant_Damage_And_Serious_Injuries',\n",
       " 'Significant_Damage_And_Serious_Injuries',\n",
       " 'Minor_Damage_And_Injuries',\n",
       " 'Significant_Damage_And_Serious_Injuries',\n",
       " 'Significant_Damage_And_Serious_Injuries',\n",
       " 'Minor_Damage_And_Injuries',\n",
       " 'Significant_Damage_And_Serious_Injuries',\n",
       " 'Significant_Damage_And_Fatalities',\n",
       " 'Highly_Fatal_And_Damaging',\n",
       " 'Significant_Damage_And_Fatalities',\n",
       " 'Highly_Fatal_And_Damaging',\n",
       " 'Minor_Damage_And_Injuries',\n",
       " 'Highly_Fatal_And_Damaging',\n",
       " 'Significant_Damage_And_Fatalities',\n",
       " 'Significant_Damage_And_Serious_Injuries',\n",
       " 'Highly_Fatal_And_Damaging',\n",
       " 'Significant_Damage_And_Fatalities',\n",
       " 'Highly_Fatal_And_Damaging',\n",
       " 'Highly_Fatal_And_Damaging',\n",
       " 'Highly_Fatal_And_Damaging',\n",
       " 'Significant_Damage_And_Fatalities',\n",
       " 'Minor_Damage_And_Injuries',\n",
       " 'Minor_Damage_And_Injuries',\n",
       " 'Highly_Fatal_And_Damaging',\n",
       " 'Significant_Damage_And_Fatalities',\n",
       " 'Significant_Damage_And_Serious_Injuries',\n",
       " 'Highly_Fatal_And_Damaging',\n",
       " 'Highly_Fatal_And_Damaging',\n",
       " 'Minor_Damage_And_Injuries',\n",
       " 'Minor_Damage_And_Injuries',\n",
       " 'Significant_Damage_And_Fatalities',\n",
       " 'Minor_Damage_And_Injuries',\n",
       " 'Significant_Damage_And_Fatalities',\n",
       " 'Minor_Damage_And_Injuries',\n",
       " 'Significant_Damage_And_Fatalities',\n",
       " 'Minor_Damage_And_Injuries',\n",
       " 'Highly_Fatal_And_Damaging',\n",
       " 'Minor_Damage_And_Injuries',\n",
       " 'Highly_Fatal_And_Damaging',\n",
       " 'Highly_Fatal_And_Damaging',\n",
       " 'Significant_Damage_And_Fatalities',\n",
       " 'Significant_Damage_And_Serious_Injuries',\n",
       " 'Highly_Fatal_And_Damaging',\n",
       " 'Highly_Fatal_And_Damaging',\n",
       " 'Highly_Fatal_And_Damaging',\n",
       " 'Highly_Fatal_And_Damaging',\n",
       " 'Significant_Damage_And_Serious_Injuries',\n",
       " 'Highly_Fatal_And_Damaging',\n",
       " 'Highly_Fatal_And_Damaging',\n",
       " 'Minor_Damage_And_Injuries',\n",
       " 'Significant_Damage_And_Fatalities',\n",
       " 'Significant_Damage_And_Fatalities',\n",
       " 'Significant_Damage_And_Serious_Injuries',\n",
       " 'Highly_Fatal_And_Damaging',\n",
       " 'Significant_Damage_And_Serious_Injuries',\n",
       " 'Significant_Damage_And_Serious_Injuries',\n",
       " ...]"
      ]
     },
     "execution_count": 116,
     "metadata": {},
     "output_type": "execute_result"
    }
   ],
   "source": [
    "test_pred"
   ]
  },
  {
   "cell_type": "code",
   "execution_count": 117,
   "metadata": {},
   "outputs": [
    {
     "data": {
      "text/plain": [
       "array([0, 2, 3, ..., 3, 3, 0], dtype=int64)"
      ]
     },
     "execution_count": 117,
     "metadata": {},
     "output_type": "execute_result"
    }
   ],
   "source": [
    "test_predictions"
   ]
  },
  {
   "cell_type": "code",
   "execution_count": 118,
   "metadata": {},
   "outputs": [],
   "source": [
    "col2 = pd.Series(test_pred,name=\"Severity\")"
   ]
  },
  {
   "cell_type": "code",
   "execution_count": 119,
   "metadata": {},
   "outputs": [],
   "source": [
    "submission1 = pd.concat([acc_id,col2],axis=1)"
   ]
  },
  {
   "cell_type": "code",
   "execution_count": 120,
   "metadata": {},
   "outputs": [
    {
     "data": {
      "text/html": [
       "<div>\n",
       "<style scoped>\n",
       "    .dataframe tbody tr th:only-of-type {\n",
       "        vertical-align: middle;\n",
       "    }\n",
       "\n",
       "    .dataframe tbody tr th {\n",
       "        vertical-align: top;\n",
       "    }\n",
       "\n",
       "    .dataframe thead th {\n",
       "        text-align: right;\n",
       "    }\n",
       "</style>\n",
       "<table border=\"1\" class=\"dataframe\">\n",
       "  <thead>\n",
       "    <tr style=\"text-align: right;\">\n",
       "      <th></th>\n",
       "      <th>Accident_ID</th>\n",
       "      <th>Severity</th>\n",
       "    </tr>\n",
       "  </thead>\n",
       "  <tbody>\n",
       "    <tr>\n",
       "      <td>0</td>\n",
       "      <td>1</td>\n",
       "      <td>Highly_Fatal_And_Damaging</td>\n",
       "    </tr>\n",
       "    <tr>\n",
       "      <td>1</td>\n",
       "      <td>10</td>\n",
       "      <td>Significant_Damage_And_Fatalities</td>\n",
       "    </tr>\n",
       "    <tr>\n",
       "      <td>2</td>\n",
       "      <td>14</td>\n",
       "      <td>Significant_Damage_And_Serious_Injuries</td>\n",
       "    </tr>\n",
       "    <tr>\n",
       "      <td>3</td>\n",
       "      <td>17</td>\n",
       "      <td>Highly_Fatal_And_Damaging</td>\n",
       "    </tr>\n",
       "    <tr>\n",
       "      <td>4</td>\n",
       "      <td>21</td>\n",
       "      <td>Significant_Damage_And_Fatalities</td>\n",
       "    </tr>\n",
       "    <tr>\n",
       "      <td>...</td>\n",
       "      <td>...</td>\n",
       "      <td>...</td>\n",
       "    </tr>\n",
       "    <tr>\n",
       "      <td>2495</td>\n",
       "      <td>12484</td>\n",
       "      <td>Highly_Fatal_And_Damaging</td>\n",
       "    </tr>\n",
       "    <tr>\n",
       "      <td>2496</td>\n",
       "      <td>12487</td>\n",
       "      <td>Significant_Damage_And_Serious_Injuries</td>\n",
       "    </tr>\n",
       "    <tr>\n",
       "      <td>2497</td>\n",
       "      <td>12488</td>\n",
       "      <td>Significant_Damage_And_Serious_Injuries</td>\n",
       "    </tr>\n",
       "    <tr>\n",
       "      <td>2498</td>\n",
       "      <td>12491</td>\n",
       "      <td>Significant_Damage_And_Serious_Injuries</td>\n",
       "    </tr>\n",
       "    <tr>\n",
       "      <td>2499</td>\n",
       "      <td>12493</td>\n",
       "      <td>Highly_Fatal_And_Damaging</td>\n",
       "    </tr>\n",
       "  </tbody>\n",
       "</table>\n",
       "<p>2500 rows × 2 columns</p>\n",
       "</div>"
      ],
      "text/plain": [
       "      Accident_ID                                 Severity\n",
       "0               1                Highly_Fatal_And_Damaging\n",
       "1              10        Significant_Damage_And_Fatalities\n",
       "2              14  Significant_Damage_And_Serious_Injuries\n",
       "3              17                Highly_Fatal_And_Damaging\n",
       "4              21        Significant_Damage_And_Fatalities\n",
       "...           ...                                      ...\n",
       "2495        12484                Highly_Fatal_And_Damaging\n",
       "2496        12487  Significant_Damage_And_Serious_Injuries\n",
       "2497        12488  Significant_Damage_And_Serious_Injuries\n",
       "2498        12491  Significant_Damage_And_Serious_Injuries\n",
       "2499        12493                Highly_Fatal_And_Damaging\n",
       "\n",
       "[2500 rows x 2 columns]"
      ]
     },
     "execution_count": 120,
     "metadata": {},
     "output_type": "execute_result"
    }
   ],
   "source": [
    "submission1"
   ]
  },
  {
   "cell_type": "code",
   "execution_count": 121,
   "metadata": {},
   "outputs": [],
   "source": [
    "submission1.to_csv('submissionXGB2.csv',index=False)"
   ]
  },
  {
   "cell_type": "code",
   "execution_count": 122,
   "metadata": {},
   "outputs": [
    {
     "data": {
      "text/html": [
       "<div>\n",
       "<style scoped>\n",
       "    .dataframe tbody tr th:only-of-type {\n",
       "        vertical-align: middle;\n",
       "    }\n",
       "\n",
       "    .dataframe tbody tr th {\n",
       "        vertical-align: top;\n",
       "    }\n",
       "\n",
       "    .dataframe thead th {\n",
       "        text-align: right;\n",
       "    }\n",
       "</style>\n",
       "<table border=\"1\" class=\"dataframe\">\n",
       "  <thead>\n",
       "    <tr style=\"text-align: right;\">\n",
       "      <th></th>\n",
       "      <th>Accident_ID</th>\n",
       "      <th>Severity</th>\n",
       "    </tr>\n",
       "  </thead>\n",
       "  <tbody>\n",
       "    <tr>\n",
       "      <td>0</td>\n",
       "      <td>1</td>\n",
       "      <td>Highly_Fatal_And_Damaging</td>\n",
       "    </tr>\n",
       "    <tr>\n",
       "      <td>1</td>\n",
       "      <td>10</td>\n",
       "      <td>Significant_Damage_And_Fatalities</td>\n",
       "    </tr>\n",
       "    <tr>\n",
       "      <td>2</td>\n",
       "      <td>14</td>\n",
       "      <td>Significant_Damage_And_Serious_Injuries</td>\n",
       "    </tr>\n",
       "    <tr>\n",
       "      <td>3</td>\n",
       "      <td>17</td>\n",
       "      <td>Highly_Fatal_And_Damaging</td>\n",
       "    </tr>\n",
       "    <tr>\n",
       "      <td>4</td>\n",
       "      <td>21</td>\n",
       "      <td>Significant_Damage_And_Fatalities</td>\n",
       "    </tr>\n",
       "    <tr>\n",
       "      <td>...</td>\n",
       "      <td>...</td>\n",
       "      <td>...</td>\n",
       "    </tr>\n",
       "    <tr>\n",
       "      <td>2495</td>\n",
       "      <td>12484</td>\n",
       "      <td>Highly_Fatal_And_Damaging</td>\n",
       "    </tr>\n",
       "    <tr>\n",
       "      <td>2496</td>\n",
       "      <td>12487</td>\n",
       "      <td>Significant_Damage_And_Serious_Injuries</td>\n",
       "    </tr>\n",
       "    <tr>\n",
       "      <td>2497</td>\n",
       "      <td>12488</td>\n",
       "      <td>Significant_Damage_And_Serious_Injuries</td>\n",
       "    </tr>\n",
       "    <tr>\n",
       "      <td>2498</td>\n",
       "      <td>12491</td>\n",
       "      <td>Significant_Damage_And_Serious_Injuries</td>\n",
       "    </tr>\n",
       "    <tr>\n",
       "      <td>2499</td>\n",
       "      <td>12493</td>\n",
       "      <td>Highly_Fatal_And_Damaging</td>\n",
       "    </tr>\n",
       "  </tbody>\n",
       "</table>\n",
       "<p>2500 rows × 2 columns</p>\n",
       "</div>"
      ],
      "text/plain": [
       "      Accident_ID                                 Severity\n",
       "0               1                Highly_Fatal_And_Damaging\n",
       "1              10        Significant_Damage_And_Fatalities\n",
       "2              14  Significant_Damage_And_Serious_Injuries\n",
       "3              17                Highly_Fatal_And_Damaging\n",
       "4              21        Significant_Damage_And_Fatalities\n",
       "...           ...                                      ...\n",
       "2495        12484                Highly_Fatal_And_Damaging\n",
       "2496        12487  Significant_Damage_And_Serious_Injuries\n",
       "2497        12488  Significant_Damage_And_Serious_Injuries\n",
       "2498        12491  Significant_Damage_And_Serious_Injuries\n",
       "2499        12493                Highly_Fatal_And_Damaging\n",
       "\n",
       "[2500 rows x 2 columns]"
      ]
     },
     "execution_count": 122,
     "metadata": {},
     "output_type": "execute_result"
    }
   ],
   "source": [
    "pd.read_csv('submissionXGB.csv')"
   ]
  },
  {
   "cell_type": "code",
   "execution_count": 123,
   "metadata": {},
   "outputs": [],
   "source": [
    "submission1.to_csv('submission2_std.csv',index=False)"
   ]
  },
  {
   "cell_type": "code",
   "execution_count": null,
   "metadata": {},
   "outputs": [],
   "source": [
    "pd.read_csv('submission1_std.csv')"
   ]
  },
  {
   "cell_type": "code",
   "execution_count": 75,
   "metadata": {},
   "outputs": [
    {
     "data": {
      "text/plain": [
       "array([0, 2, 3, ..., 3, 3, 0], dtype=int64)"
      ]
     },
     "execution_count": 75,
     "metadata": {},
     "output_type": "execute_result"
    }
   ],
   "source": [
    "test_predictions"
   ]
  },
  {
   "cell_type": "code",
   "execution_count": null,
   "metadata": {},
   "outputs": [],
   "source": []
  },
  {
   "cell_type": "code",
   "execution_count": null,
   "metadata": {},
   "outputs": [],
   "source": []
  },
  {
   "cell_type": "code",
   "execution_count": null,
   "metadata": {},
   "outputs": [],
   "source": []
  },
  {
   "cell_type": "code",
   "execution_count": null,
   "metadata": {},
   "outputs": [],
   "source": []
  },
  {
   "cell_type": "code",
   "execution_count": null,
   "metadata": {},
   "outputs": [],
   "source": []
  },
  {
   "cell_type": "code",
   "execution_count": null,
   "metadata": {},
   "outputs": [],
   "source": []
  },
  {
   "cell_type": "code",
   "execution_count": null,
   "metadata": {},
   "outputs": [],
   "source": []
  },
  {
   "cell_type": "code",
   "execution_count": null,
   "metadata": {},
   "outputs": [],
   "source": []
  },
  {
   "cell_type": "code",
   "execution_count": null,
   "metadata": {},
   "outputs": [],
   "source": []
  },
  {
   "cell_type": "code",
   "execution_count": null,
   "metadata": {},
   "outputs": [],
   "source": []
  }
 ],
 "metadata": {
  "kernelspec": {
   "display_name": "Python 3",
   "language": "python",
   "name": "python3"
  },
  "language_info": {
   "codemirror_mode": {
    "name": "ipython",
    "version": 3
   },
   "file_extension": ".py",
   "mimetype": "text/x-python",
   "name": "python",
   "nbconvert_exporter": "python",
   "pygments_lexer": "ipython3",
   "version": "3.7.4"
  }
 },
 "nbformat": 4,
 "nbformat_minor": 2
}
